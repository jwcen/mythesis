{
 "cells": [
  {
   "cell_type": "code",
   "execution_count": 1,
   "id": "8fd07bf5",
   "metadata": {},
   "outputs": [],
   "source": [
    "import numpy as np\n",
    "import pandas as pd\n",
    "import os\n",
    "import joblib\n",
    "from functools import partial\n",
    "from tqdm import notebook, tqdm\n",
    "from scipy.sparse import coo_matrix\n",
    "# from coo import co_acc_probs, co_acc_skills\n",
    "# multiprocessing to speedup matrix extraction\n",
    "import multiprocessing\n",
    "\n",
    "# cores = multiprocessing.cpu_count()\n",
    "cores = 20\n",
    "\n",
    "pool = multiprocessing.Pool(processes=cores)"
   ]
  },
  {
   "cell_type": "code",
   "execution_count": 2,
   "id": "e99c9961",
   "metadata": {},
   "outputs": [
    {
     "data": {
      "text/html": [
       "<div>\n",
       "<style scoped>\n",
       "    .dataframe tbody tr th:only-of-type {\n",
       "        vertical-align: middle;\n",
       "    }\n",
       "\n",
       "    .dataframe tbody tr th {\n",
       "        vertical-align: top;\n",
       "    }\n",
       "\n",
       "    .dataframe thead th {\n",
       "        text-align: right;\n",
       "    }\n",
       "</style>\n",
       "<table border=\"1\" class=\"dataframe\">\n",
       "  <thead>\n",
       "    <tr style=\"text-align: right;\">\n",
       "      <th></th>\n",
       "      <th>studentId</th>\n",
       "      <th>MiddleSchoolId</th>\n",
       "      <th>InferredGender</th>\n",
       "      <th>SY ASSISTments Usage</th>\n",
       "      <th>AveKnow</th>\n",
       "      <th>AveCarelessness</th>\n",
       "      <th>AveCorrect</th>\n",
       "      <th>NumActions</th>\n",
       "      <th>AveResBored</th>\n",
       "      <th>AveResEngcon</th>\n",
       "      <th>...</th>\n",
       "      <th>RES_CONFUSED</th>\n",
       "      <th>RES_FRUSTRATED</th>\n",
       "      <th>RES_OFFTASK</th>\n",
       "      <th>RES_GAMING</th>\n",
       "      <th>Ln-1</th>\n",
       "      <th>Ln</th>\n",
       "      <th>MCAS</th>\n",
       "      <th>Enrolled</th>\n",
       "      <th>Selective</th>\n",
       "      <th>isSTEM</th>\n",
       "    </tr>\n",
       "  </thead>\n",
       "  <tbody>\n",
       "    <tr>\n",
       "      <th>0</th>\n",
       "      <td>8</td>\n",
       "      <td>2</td>\n",
       "      <td>Male</td>\n",
       "      <td>2004-2005</td>\n",
       "      <td>0.352416</td>\n",
       "      <td>0.183276</td>\n",
       "      <td>0.483902</td>\n",
       "      <td>1056</td>\n",
       "      <td>0.208389</td>\n",
       "      <td>0.679126</td>\n",
       "      <td>...</td>\n",
       "      <td>0.000000</td>\n",
       "      <td>0.000000</td>\n",
       "      <td>0.785585</td>\n",
       "      <td>0.000264</td>\n",
       "      <td>0.13</td>\n",
       "      <td>0.061190409</td>\n",
       "      <td>45</td>\n",
       "      <td>0</td>\n",
       "      <td>0</td>\n",
       "      <td>NaN</td>\n",
       "    </tr>\n",
       "    <tr>\n",
       "      <th>1</th>\n",
       "      <td>8</td>\n",
       "      <td>2</td>\n",
       "      <td>Male</td>\n",
       "      <td>2004-2005</td>\n",
       "      <td>0.352416</td>\n",
       "      <td>0.183276</td>\n",
       "      <td>0.483902</td>\n",
       "      <td>1056</td>\n",
       "      <td>0.208389</td>\n",
       "      <td>0.679126</td>\n",
       "      <td>...</td>\n",
       "      <td>0.887452</td>\n",
       "      <td>0.000000</td>\n",
       "      <td>0.468252</td>\n",
       "      <td>0.001483</td>\n",
       "      <td>0.061190409</td>\n",
       "      <td>0.213509945</td>\n",
       "      <td>45</td>\n",
       "      <td>0</td>\n",
       "      <td>0</td>\n",
       "      <td>NaN</td>\n",
       "    </tr>\n",
       "    <tr>\n",
       "      <th>2</th>\n",
       "      <td>8</td>\n",
       "      <td>2</td>\n",
       "      <td>Male</td>\n",
       "      <td>2004-2005</td>\n",
       "      <td>0.352416</td>\n",
       "      <td>0.183276</td>\n",
       "      <td>0.483902</td>\n",
       "      <td>1056</td>\n",
       "      <td>0.208389</td>\n",
       "      <td>0.679126</td>\n",
       "      <td>...</td>\n",
       "      <td>0.887452</td>\n",
       "      <td>0.000000</td>\n",
       "      <td>0.468252</td>\n",
       "      <td>0.001483</td>\n",
       "      <td>0.116</td>\n",
       "      <td>0.033305768</td>\n",
       "      <td>45</td>\n",
       "      <td>0</td>\n",
       "      <td>0</td>\n",
       "      <td>NaN</td>\n",
       "    </tr>\n",
       "    <tr>\n",
       "      <th>3</th>\n",
       "      <td>8</td>\n",
       "      <td>2</td>\n",
       "      <td>Male</td>\n",
       "      <td>2004-2005</td>\n",
       "      <td>0.352416</td>\n",
       "      <td>0.183276</td>\n",
       "      <td>0.483902</td>\n",
       "      <td>1056</td>\n",
       "      <td>0.208389</td>\n",
       "      <td>0.679126</td>\n",
       "      <td>...</td>\n",
       "      <td>0.000000</td>\n",
       "      <td>0.000000</td>\n",
       "      <td>0.108417</td>\n",
       "      <td>0.010665</td>\n",
       "      <td>0.116</td>\n",
       "      <td>0.033305768</td>\n",
       "      <td>45</td>\n",
       "      <td>0</td>\n",
       "      <td>0</td>\n",
       "      <td>NaN</td>\n",
       "    </tr>\n",
       "    <tr>\n",
       "      <th>4</th>\n",
       "      <td>8</td>\n",
       "      <td>2</td>\n",
       "      <td>Male</td>\n",
       "      <td>2004-2005</td>\n",
       "      <td>0.352416</td>\n",
       "      <td>0.183276</td>\n",
       "      <td>0.483902</td>\n",
       "      <td>1056</td>\n",
       "      <td>0.208389</td>\n",
       "      <td>0.679126</td>\n",
       "      <td>...</td>\n",
       "      <td>0.000000</td>\n",
       "      <td>0.000000</td>\n",
       "      <td>0.108417</td>\n",
       "      <td>0.010665</td>\n",
       "      <td>0.033305768</td>\n",
       "      <td>0.118385889</td>\n",
       "      <td>45</td>\n",
       "      <td>0</td>\n",
       "      <td>0</td>\n",
       "      <td>NaN</td>\n",
       "    </tr>\n",
       "    <tr>\n",
       "      <th>...</th>\n",
       "      <td>...</td>\n",
       "      <td>...</td>\n",
       "      <td>...</td>\n",
       "      <td>...</td>\n",
       "      <td>...</td>\n",
       "      <td>...</td>\n",
       "      <td>...</td>\n",
       "      <td>...</td>\n",
       "      <td>...</td>\n",
       "      <td>...</td>\n",
       "      <td>...</td>\n",
       "      <td>...</td>\n",
       "      <td>...</td>\n",
       "      <td>...</td>\n",
       "      <td>...</td>\n",
       "      <td>...</td>\n",
       "      <td>...</td>\n",
       "      <td>...</td>\n",
       "      <td>...</td>\n",
       "      <td>...</td>\n",
       "      <td>...</td>\n",
       "    </tr>\n",
       "    <tr>\n",
       "      <th>942811</th>\n",
       "      <td>7783</td>\n",
       "      <td>1</td>\n",
       "      <td>NaN</td>\n",
       "      <td>2005-2006</td>\n",
       "      <td>0.210902</td>\n",
       "      <td>0.094888</td>\n",
       "      <td>0.456522</td>\n",
       "      <td>276</td>\n",
       "      <td>0.271812</td>\n",
       "      <td>0.611678</td>\n",
       "      <td>...</td>\n",
       "      <td>0.000000</td>\n",
       "      <td>0.000000</td>\n",
       "      <td>0.122595</td>\n",
       "      <td>0.000092</td>\n",
       "      <td>0.054517257</td>\n",
       "      <td>0.053783108</td>\n",
       "      <td>28</td>\n",
       "      <td>1</td>\n",
       "      <td>0</td>\n",
       "      <td>NaN</td>\n",
       "    </tr>\n",
       "    <tr>\n",
       "      <th>942812</th>\n",
       "      <td>7783</td>\n",
       "      <td>1</td>\n",
       "      <td>NaN</td>\n",
       "      <td>2005-2006</td>\n",
       "      <td>0.210902</td>\n",
       "      <td>0.094888</td>\n",
       "      <td>0.456522</td>\n",
       "      <td>276</td>\n",
       "      <td>0.271812</td>\n",
       "      <td>0.611678</td>\n",
       "      <td>...</td>\n",
       "      <td>0.633474</td>\n",
       "      <td>0.000000</td>\n",
       "      <td>0.122595</td>\n",
       "      <td>0.002815</td>\n",
       "      <td>0.053783108</td>\n",
       "      <td>0.053673232</td>\n",
       "      <td>28</td>\n",
       "      <td>1</td>\n",
       "      <td>0</td>\n",
       "      <td>NaN</td>\n",
       "    </tr>\n",
       "    <tr>\n",
       "      <th>942813</th>\n",
       "      <td>7783</td>\n",
       "      <td>1</td>\n",
       "      <td>NaN</td>\n",
       "      <td>2005-2006</td>\n",
       "      <td>0.210902</td>\n",
       "      <td>0.094888</td>\n",
       "      <td>0.456522</td>\n",
       "      <td>276</td>\n",
       "      <td>0.271812</td>\n",
       "      <td>0.611678</td>\n",
       "      <td>...</td>\n",
       "      <td>0.000000</td>\n",
       "      <td>0.000000</td>\n",
       "      <td>0.122595</td>\n",
       "      <td>0.101184</td>\n",
       "      <td>0.053783108</td>\n",
       "      <td>0.053673232</td>\n",
       "      <td>28</td>\n",
       "      <td>1</td>\n",
       "      <td>0</td>\n",
       "      <td>NaN</td>\n",
       "    </tr>\n",
       "    <tr>\n",
       "      <th>942814</th>\n",
       "      <td>7783</td>\n",
       "      <td>1</td>\n",
       "      <td>NaN</td>\n",
       "      <td>2005-2006</td>\n",
       "      <td>0.210902</td>\n",
       "      <td>0.094888</td>\n",
       "      <td>0.456522</td>\n",
       "      <td>276</td>\n",
       "      <td>0.271812</td>\n",
       "      <td>0.611678</td>\n",
       "      <td>...</td>\n",
       "      <td>0.000000</td>\n",
       "      <td>0.000000</td>\n",
       "      <td>0.122595</td>\n",
       "      <td>0.101184</td>\n",
       "      <td>0.053783108</td>\n",
       "      <td>0.053673232</td>\n",
       "      <td>28</td>\n",
       "      <td>1</td>\n",
       "      <td>0</td>\n",
       "      <td>NaN</td>\n",
       "    </tr>\n",
       "    <tr>\n",
       "      <th>942815</th>\n",
       "      <td>7783</td>\n",
       "      <td>1</td>\n",
       "      <td>NaN</td>\n",
       "      <td>2005-2006</td>\n",
       "      <td>0.210902</td>\n",
       "      <td>0.094888</td>\n",
       "      <td>0.456522</td>\n",
       "      <td>276</td>\n",
       "      <td>0.271812</td>\n",
       "      <td>0.611678</td>\n",
       "      <td>...</td>\n",
       "      <td>0.000000</td>\n",
       "      <td>0.009561</td>\n",
       "      <td>0.122595</td>\n",
       "      <td>0.010665</td>\n",
       "      <td>0.780148343</td>\n",
       "      <td>0.918158873</td>\n",
       "      <td>28</td>\n",
       "      <td>1</td>\n",
       "      <td>0</td>\n",
       "      <td>NaN</td>\n",
       "    </tr>\n",
       "  </tbody>\n",
       "</table>\n",
       "<p>942816 rows × 82 columns</p>\n",
       "</div>"
      ],
      "text/plain": [
       "        studentId  MiddleSchoolId InferredGender SY ASSISTments Usage  \\\n",
       "0               8               2           Male            2004-2005   \n",
       "1               8               2           Male            2004-2005   \n",
       "2               8               2           Male            2004-2005   \n",
       "3               8               2           Male            2004-2005   \n",
       "4               8               2           Male            2004-2005   \n",
       "...           ...             ...            ...                  ...   \n",
       "942811       7783               1            NaN            2005-2006   \n",
       "942812       7783               1            NaN            2005-2006   \n",
       "942813       7783               1            NaN            2005-2006   \n",
       "942814       7783               1            NaN            2005-2006   \n",
       "942815       7783               1            NaN            2005-2006   \n",
       "\n",
       "         AveKnow  AveCarelessness  AveCorrect  NumActions  AveResBored  \\\n",
       "0       0.352416         0.183276    0.483902        1056     0.208389   \n",
       "1       0.352416         0.183276    0.483902        1056     0.208389   \n",
       "2       0.352416         0.183276    0.483902        1056     0.208389   \n",
       "3       0.352416         0.183276    0.483902        1056     0.208389   \n",
       "4       0.352416         0.183276    0.483902        1056     0.208389   \n",
       "...          ...              ...         ...         ...          ...   \n",
       "942811  0.210902         0.094888    0.456522         276     0.271812   \n",
       "942812  0.210902         0.094888    0.456522         276     0.271812   \n",
       "942813  0.210902         0.094888    0.456522         276     0.271812   \n",
       "942814  0.210902         0.094888    0.456522         276     0.271812   \n",
       "942815  0.210902         0.094888    0.456522         276     0.271812   \n",
       "\n",
       "        AveResEngcon  ...  RES_CONFUSED  RES_FRUSTRATED  RES_OFFTASK  \\\n",
       "0           0.679126  ...      0.000000        0.000000     0.785585   \n",
       "1           0.679126  ...      0.887452        0.000000     0.468252   \n",
       "2           0.679126  ...      0.887452        0.000000     0.468252   \n",
       "3           0.679126  ...      0.000000        0.000000     0.108417   \n",
       "4           0.679126  ...      0.000000        0.000000     0.108417   \n",
       "...              ...  ...           ...             ...          ...   \n",
       "942811      0.611678  ...      0.000000        0.000000     0.122595   \n",
       "942812      0.611678  ...      0.633474        0.000000     0.122595   \n",
       "942813      0.611678  ...      0.000000        0.000000     0.122595   \n",
       "942814      0.611678  ...      0.000000        0.000000     0.122595   \n",
       "942815      0.611678  ...      0.000000        0.009561     0.122595   \n",
       "\n",
       "        RES_GAMING         Ln-1           Ln  MCAS Enrolled  Selective  isSTEM  \n",
       "0         0.000264         0.13  0.061190409    45        0          0     NaN  \n",
       "1         0.001483  0.061190409  0.213509945    45        0          0     NaN  \n",
       "2         0.001483        0.116  0.033305768    45        0          0     NaN  \n",
       "3         0.010665        0.116  0.033305768    45        0          0     NaN  \n",
       "4         0.010665  0.033305768  0.118385889    45        0          0     NaN  \n",
       "...            ...          ...          ...   ...      ...        ...     ...  \n",
       "942811    0.000092  0.054517257  0.053783108    28        1          0     NaN  \n",
       "942812    0.002815  0.053783108  0.053673232    28        1          0     NaN  \n",
       "942813    0.101184  0.053783108  0.053673232    28        1          0     NaN  \n",
       "942814    0.101184  0.053783108  0.053673232    28        1          0     NaN  \n",
       "942815    0.010665  0.780148343  0.918158873    28        1          0     NaN  \n",
       "\n",
       "[942816 rows x 82 columns]"
      ]
     },
     "execution_count": 2,
     "metadata": {},
     "output_type": "execute_result"
    }
   ],
   "source": [
    "# read in the data\n",
    "df = pd.read_csv('./assistment2017.csv', low_memory=False)\n",
    "df"
   ]
  },
  {
   "cell_type": "code",
   "execution_count": 19,
   "id": "9467bce5",
   "metadata": {},
   "outputs": [
    {
     "data": {
      "text/plain": [
       "Index(['studentId', 'MiddleSchoolId', 'InferredGender', 'SY ASSISTments Usage',\n",
       "       'AveKnow', 'AveCarelessness', 'AveCorrect', 'NumActions', 'AveResBored',\n",
       "       'AveResEngcon', 'AveResConf', 'AveResFrust', 'AveResOfftask',\n",
       "       'AveResGaming', 'action_num', 'skill', 'problemId', 'problemType',\n",
       "       'assignmentId', 'assistmentId', 'startTime', 'endTime', 'timeTaken',\n",
       "       'correct', 'original', 'hint', 'hintCount', 'hintTotal', 'scaffold',\n",
       "       'bottomHint', 'attemptCount', 'frIsHelpRequest', 'frPast5HelpRequest',\n",
       "       'frPast8HelpRequest', 'stlHintUsed', 'past8BottomOut',\n",
       "       'totalFrPercentPastWrong', 'totalFrPastWrongCount', 'frPast5WrongCount',\n",
       "       'frPast8WrongCount', 'totalFrTimeOnSkill', 'timeSinceSkill',\n",
       "       'frWorkingInSchool', 'totalFrAttempted', 'totalFrSkillOpportunities',\n",
       "       'responseIsFillIn', 'responseIsChosen', 'endsWithScaffolding',\n",
       "       'endsWithAutoScaffolding', 'frTimeTakenOnScaffolding',\n",
       "       'frTotalSkillOpportunitiesScaffolding',\n",
       "       'totalFrSkillOpportunitiesByScaffolding', 'frIsHelpRequestScaffolding',\n",
       "       'timeGreater5Secprev2wrong', 'sumRight', 'helpAccessUnder2Sec',\n",
       "       'timeGreater10SecAndNextActionRight', 'consecutiveErrorsInRow',\n",
       "       'sumTime3SDWhen3RowRight', 'sumTimePerSkill',\n",
       "       'totalTimeByPercentCorrectForskill', 'Prev5count', 'timeOver80',\n",
       "       'manywrong', 'confidence(BORED)', 'confidence(CONCENTRATING)',\n",
       "       'confidence(CONFUSED)', 'confidence(FRUSTRATED)',\n",
       "       'confidence(OFF TASK)', 'confidence(GAMING)', 'RES_BORED',\n",
       "       'RES_CONCENTRATING', 'RES_CONFUSED', 'RES_FRUSTRATED', 'RES_OFFTASK',\n",
       "       'RES_GAMING', 'Ln-1', 'Ln', 'MCAS', 'Enrolled', 'Selective', 'isSTEM'],\n",
       "      dtype='object')"
      ]
     },
     "execution_count": 19,
     "metadata": {},
     "output_type": "execute_result"
    }
   ],
   "source": [
    "df.columns"
   ]
  },
  {
   "cell_type": "code",
   "execution_count": 6,
   "id": "0ebb140e",
   "metadata": {},
   "outputs": [
    {
     "data": {
      "text/plain": [
       "['textfieldquestion',\n",
       " 'noprobtype',\n",
       " 'noprobtype',\n",
       " 'noprobtype',\n",
       " 'noprobtype',\n",
       " 'noprobtype',\n",
       " 'noprobtype',\n",
       " 'radioquestion',\n",
       " 'noprobtype',\n",
       " 'noprobtype',\n",
       " 'noprobtype',\n",
       " 'noprobtype',\n",
       " 'noprobtype',\n",
       " 'noprobtype',\n",
       " 'noprobtype',\n",
       " 'noprobtype',\n",
       " 'radioquestion',\n",
       " 'textfieldquestion',\n",
       " 'textfieldquestion',\n",
       " 'textfieldquestion',\n",
       " 'textfieldquestion',\n",
       " 'textfieldquestion',\n",
       " 'textfieldquestion',\n",
       " 'radioquestion',\n",
       " 'textfieldquestion',\n",
       " 'radioquestion',\n",
       " 'radioquestion',\n",
       " 'radioquestion',\n",
       " 'textfieldquestion',\n",
       " 'radioquestion',\n",
       " 'radioquestion',\n",
       " 'radioquestion',\n",
       " 'textfieldquestion',\n",
       " 'textfieldquestion',\n",
       " 'textfieldquestion',\n",
       " 'textfieldquestion',\n",
       " 'textfieldquestion',\n",
       " 'radioquestion',\n",
       " 'radioquestion',\n",
       " 'other',\n",
       " 'other',\n",
       " 'other',\n",
       " 'other',\n",
       " 'noprobtype',\n",
       " 'noprobtype',\n",
       " 'noprobtype',\n",
       " 'noprobtype',\n",
       " 'other',\n",
       " 'noprobtype',\n",
       " 'noprobtype',\n",
       " 'noprobtype',\n",
       " 'textfieldquestion',\n",
       " 'noprobtype',\n",
       " 'noprobtype',\n",
       " 'noprobtype',\n",
       " 'radioquestion',\n",
       " 'noprobtype',\n",
       " 'noprobtype',\n",
       " 'noprobtype',\n",
       " 'noprobtype',\n",
       " 'noprobtype',\n",
       " 'noprobtype',\n",
       " 'noprobtype',\n",
       " 'noprobtype',\n",
       " 'noprobtype',\n",
       " 'radioquestion',\n",
       " 'radioquestion',\n",
       " 'radioquestion',\n",
       " 'noprobtype',\n",
       " 'radioquestion',\n",
       " 'textfieldquestion',\n",
       " 'noprobtype',\n",
       " 'noprobtype',\n",
       " 'noprobtype',\n",
       " 'noprobtype',\n",
       " 'noprobtype',\n",
       " 'noprobtype',\n",
       " 'noprobtype',\n",
       " 'noprobtype',\n",
       " 'noprobtype',\n",
       " 'noprobtype',\n",
       " 'noprobtype',\n",
       " 'noprobtype',\n",
       " 'noprobtype',\n",
       " 'noprobtype',\n",
       " 'noprobtype',\n",
       " 'noprobtype',\n",
       " 'noprobtype',\n",
       " 'noprobtype',\n",
       " 'noprobtype',\n",
       " 'noprobtype',\n",
       " 'noprobtype',\n",
       " 'noprobtype',\n",
       " 'noprobtype',\n",
       " 'noprobtype',\n",
       " 'noprobtype',\n",
       " 'noprobtype',\n",
       " 'noprobtype',\n",
       " 'noprobtype',\n",
       " 'noprobtype',\n",
       " 'noprobtype',\n",
       " 'noprobtype',\n",
       " 'noprobtype',\n",
       " 'noprobtype',\n",
       " 'noprobtype',\n",
       " 'noprobtype',\n",
       " 'noprobtype',\n",
       " 'noprobtype',\n",
       " 'noprobtype',\n",
       " 'noprobtype',\n",
       " 'noprobtype',\n",
       " 'noprobtype',\n",
       " 'noprobtype',\n",
       " 'noprobtype',\n",
       " 'noprobtype',\n",
       " 'noprobtype',\n",
       " 'noprobtype',\n",
       " 'noprobtype',\n",
       " 'noprobtype',\n",
       " 'noprobtype',\n",
       " 'noprobtype',\n",
       " 'noprobtype',\n",
       " 'noprobtype',\n",
       " 'noprobtype',\n",
       " 'noprobtype',\n",
       " 'noprobtype',\n",
       " 'noprobtype',\n",
       " 'noprobtype',\n",
       " 'noprobtype',\n",
       " 'noprobtype',\n",
       " 'noprobtype',\n",
       " 'noprobtype',\n",
       " 'noprobtype',\n",
       " 'noprobtype',\n",
       " 'noprobtype',\n",
       " 'noprobtype',\n",
       " 'textfieldquestion',\n",
       " 'radioquestion',\n",
       " 'radioquestion',\n",
       " 'radioquestion',\n",
       " 'radioquestion',\n",
       " 'textfieldquestion',\n",
       " 'textfieldquestion',\n",
       " 'textfieldquestion',\n",
       " 'textfieldquestion',\n",
       " 'radioquestion',\n",
       " 'radioquestion',\n",
       " 'textfieldquestion',\n",
       " 'textfieldquestion',\n",
       " 'textfieldquestion',\n",
       " 'textfieldquestion',\n",
       " 'textfieldquestion',\n",
       " 'textfieldquestion',\n",
       " 'textfieldquestion',\n",
       " 'textfieldquestion',\n",
       " 'textfieldquestion',\n",
       " 'textfieldquestion',\n",
       " 'textfieldquestion',\n",
       " 'noprobtype',\n",
       " 'noprobtype',\n",
       " 'noprobtype',\n",
       " 'noprobtype',\n",
       " 'noprobtype',\n",
       " 'textfieldquestion',\n",
       " 'textfieldquestion',\n",
       " 'textfieldquestion',\n",
       " 'textfieldquestion',\n",
       " 'textfieldquestion',\n",
       " 'textfieldquestion',\n",
       " 'textfieldquestion',\n",
       " 'textfieldquestion',\n",
       " 'other',\n",
       " 'other',\n",
       " 'other',\n",
       " 'other',\n",
       " 'other',\n",
       " 'other',\n",
       " 'other',\n",
       " 'noprobtype',\n",
       " 'radioquestion',\n",
       " 'textfieldquestion',\n",
       " 'textfieldquestion',\n",
       " 'textfieldquestion',\n",
       " 'textfieldquestion',\n",
       " 'textfieldquestion',\n",
       " 'textfieldquestion',\n",
       " 'other',\n",
       " 'other',\n",
       " 'other',\n",
       " 'other',\n",
       " 'other',\n",
       " 'other',\n",
       " 'other',\n",
       " 'other',\n",
       " 'other',\n",
       " 'noprobtype',\n",
       " 'noprobtype',\n",
       " 'noprobtype',\n",
       " 'noprobtype',\n",
       " 'noprobtype',\n",
       " 'noprobtype',\n",
       " 'radioquestion',\n",
       " 'noprobtype',\n",
       " 'noprobtype',\n",
       " 'other',\n",
       " 'other',\n",
       " 'other',\n",
       " 'other',\n",
       " 'other',\n",
       " 'textfieldquestion',\n",
       " 'other',\n",
       " 'other',\n",
       " 'other',\n",
       " 'other',\n",
       " 'other',\n",
       " 'other',\n",
       " 'other',\n",
       " 'other',\n",
       " 'other',\n",
       " 'other',\n",
       " 'other',\n",
       " 'other',\n",
       " 'other',\n",
       " 'other',\n",
       " 'other',\n",
       " 'other',\n",
       " 'other',\n",
       " 'other',\n",
       " 'other',\n",
       " 'other',\n",
       " 'radioquestion',\n",
       " 'algebra',\n",
       " 'algebra',\n",
       " 'algebra',\n",
       " 'algebra',\n",
       " 'algebra',\n",
       " 'other',\n",
       " 'other',\n",
       " 'other',\n",
       " 'other',\n",
       " 'other',\n",
       " 'other',\n",
       " 'other',\n",
       " 'other',\n",
       " 'other',\n",
       " 'other',\n",
       " 'other',\n",
       " 'other',\n",
       " 'other',\n",
       " 'other',\n",
       " 'other',\n",
       " 'other',\n",
       " 'other',\n",
       " 'other',\n",
       " 'other',\n",
       " 'other',\n",
       " 'other',\n",
       " 'other',\n",
       " 'other',\n",
       " 'other',\n",
       " 'other',\n",
       " 'other',\n",
       " 'other',\n",
       " 'other',\n",
       " 'other',\n",
       " 'other',\n",
       " 'other',\n",
       " 'other',\n",
       " 'other',\n",
       " 'radioquestion',\n",
       " 'algebra',\n",
       " 'radioquestion',\n",
       " 'other',\n",
       " 'textfieldquestion',\n",
       " 'algebra',\n",
       " 'textfieldquestion',\n",
       " 'textfieldquestion',\n",
       " 'textfieldquestion',\n",
       " 'other',\n",
       " 'other',\n",
       " 'other',\n",
       " 'other',\n",
       " 'other',\n",
       " 'other',\n",
       " 'other',\n",
       " 'radioquestion',\n",
       " 'radioquestion',\n",
       " 'radioquestion',\n",
       " 'radioquestion',\n",
       " 'radioquestion',\n",
       " 'radioquestion',\n",
       " 'radioquestion',\n",
       " 'radioquestion',\n",
       " 'radioquestion',\n",
       " 'radioquestion',\n",
       " 'textfieldquestion',\n",
       " 'textfieldquestion',\n",
       " 'textfieldquestion',\n",
       " 'textfieldquestion',\n",
       " 'other',\n",
       " 'radioquestion',\n",
       " 'radioquestion',\n",
       " 'other',\n",
       " 'other',\n",
       " 'other',\n",
       " 'other',\n",
       " 'radioquestion',\n",
       " 'radioquestion',\n",
       " 'other',\n",
       " 'other',\n",
       " 'textfieldquestion',\n",
       " 'radioquestion',\n",
       " 'other',\n",
       " 'other',\n",
       " 'other',\n",
       " 'other',\n",
       " 'other',\n",
       " 'textfieldquestion',\n",
       " 'other',\n",
       " 'other',\n",
       " 'other',\n",
       " 'other',\n",
       " 'radioquestion',\n",
       " 'noprobtype',\n",
       " 'radioquestion',\n",
       " 'textfieldquestion',\n",
       " 'textfieldquestion',\n",
       " 'algebra',\n",
       " 'textfieldquestion',\n",
       " 'other',\n",
       " 'radioquestion',\n",
       " 'radioquestion',\n",
       " 'textfieldquestion',\n",
       " 'textfieldquestion',\n",
       " 'radioquestion',\n",
       " 'radioquestion',\n",
       " 'radioquestion',\n",
       " 'popupmenuquestion',\n",
       " 'radioquestion',\n",
       " 'radioquestion',\n",
       " 'radioquestion',\n",
       " 'other',\n",
       " 'radioquestion',\n",
       " 'textfieldquestion',\n",
       " 'other',\n",
       " 'other',\n",
       " 'popupmenuquestion',\n",
       " 'radioquestion',\n",
       " 'radioquestion',\n",
       " 'textfieldquestion',\n",
       " 'noprobtype',\n",
       " 'radioquestion',\n",
       " 'textfieldquestion',\n",
       " 'radioquestion',\n",
       " 'textfieldquestion',\n",
       " 'radioquestion',\n",
       " 'other',\n",
       " 'textfieldquestion',\n",
       " 'textfieldquestion',\n",
       " 'textfieldquestion',\n",
       " 'other',\n",
       " 'other',\n",
       " 'other',\n",
       " 'other',\n",
       " 'radioquestion',\n",
       " 'radioquestion',\n",
       " 'other',\n",
       " 'other',\n",
       " 'other',\n",
       " 'other',\n",
       " 'radioquestion',\n",
       " 'radioquestion',\n",
       " 'radioquestion',\n",
       " 'radioquestion',\n",
       " 'radioquestion',\n",
       " 'radioquestion',\n",
       " 'radioquestion',\n",
       " 'other',\n",
       " 'radioquestion',\n",
       " 'radioquestion',\n",
       " 'radioquestion',\n",
       " 'other',\n",
       " 'radioquestion',\n",
       " 'radioquestion',\n",
       " 'radioquestion',\n",
       " 'textfieldquestion',\n",
       " 'textfieldquestion',\n",
       " 'textfieldquestion',\n",
       " 'textfieldquestion',\n",
       " 'textfieldquestion',\n",
       " 'radioquestion',\n",
       " 'other',\n",
       " 'radioquestion',\n",
       " 'radioquestion',\n",
       " 'textfieldquestion',\n",
       " 'noprobtype',\n",
       " 'noprobtype',\n",
       " 'noprobtype',\n",
       " 'noprobtype',\n",
       " 'noprobtype',\n",
       " 'noprobtype',\n",
       " 'noprobtype',\n",
       " 'noprobtype',\n",
       " 'noprobtype',\n",
       " 'noprobtype',\n",
       " 'noprobtype',\n",
       " 'radioquestion',\n",
       " 'radioquestion',\n",
       " 'radioquestion',\n",
       " 'radioquestion',\n",
       " 'radioquestion',\n",
       " 'radioquestion',\n",
       " 'textfieldquestion',\n",
       " 'textfieldquestion',\n",
       " 'textfieldquestion',\n",
       " 'textfieldquestion',\n",
       " 'textfieldquestion',\n",
       " 'textfieldquestion',\n",
       " 'textfieldquestion',\n",
       " 'textfieldquestion',\n",
       " 'textfieldquestion',\n",
       " 'textfieldquestion',\n",
       " 'textfieldquestion',\n",
       " 'textfieldquestion',\n",
       " 'textfieldquestion',\n",
       " 'textfieldquestion',\n",
       " 'textfieldquestion',\n",
       " 'textfieldquestion',\n",
       " 'textfieldquestion',\n",
       " 'textfieldquestion',\n",
       " 'textfieldquestion',\n",
       " 'textfieldquestion',\n",
       " 'textfieldquestion',\n",
       " 'textfieldquestion',\n",
       " 'textfieldquestion',\n",
       " 'textfieldquestion',\n",
       " 'textfieldquestion',\n",
       " 'textfieldquestion',\n",
       " 'textfieldquestion',\n",
       " 'textfieldquestion',\n",
       " 'textfieldquestion',\n",
       " 'textfieldquestion',\n",
       " 'textfieldquestion',\n",
       " 'radioquestion',\n",
       " 'radioquestion',\n",
       " 'radioquestion',\n",
       " 'textfieldquestion',\n",
       " 'radioquestion',\n",
       " 'radioquestion',\n",
       " 'radioquestion',\n",
       " 'algebra',\n",
       " 'other',\n",
       " 'other',\n",
       " 'radioquestion',\n",
       " 'noprobtype',\n",
       " 'noprobtype',\n",
       " 'noprobtype',\n",
       " 'noprobtype',\n",
       " 'radioquestion',\n",
       " 'noprobtype',\n",
       " 'noprobtype',\n",
       " 'noprobtype',\n",
       " 'noprobtype',\n",
       " 'noprobtype',\n",
       " 'noprobtype',\n",
       " 'noprobtype',\n",
       " 'noprobtype',\n",
       " 'noprobtype',\n",
       " 'noprobtype',\n",
       " 'noprobtype',\n",
       " 'noprobtype',\n",
       " 'noprobtype',\n",
       " 'noprobtype',\n",
       " 'noprobtype',\n",
       " 'noprobtype',\n",
       " 'noprobtype',\n",
       " 'noprobtype',\n",
       " 'noprobtype',\n",
       " 'noprobtype',\n",
       " 'noprobtype',\n",
       " 'algebra',\n",
       " 'radioquestion',\n",
       " 'radioquestion',\n",
       " 'other',\n",
       " 'other',\n",
       " 'other',\n",
       " 'other',\n",
       " 'other',\n",
       " 'other',\n",
       " 'other',\n",
       " 'other',\n",
       " 'other',\n",
       " 'other',\n",
       " 'other',\n",
       " 'other',\n",
       " 'other',\n",
       " 'other',\n",
       " 'other',\n",
       " 'other',\n",
       " 'other',\n",
       " 'other',\n",
       " 'other',\n",
       " 'other',\n",
       " 'radioquestion',\n",
       " 'radioquestion',\n",
       " 'other',\n",
       " 'radioquestion',\n",
       " 'radioquestion',\n",
       " 'radioquestion',\n",
       " 'radioquestion',\n",
       " 'popupmenuquestion',\n",
       " 'radioquestion',\n",
       " 'radioquestion',\n",
       " 'other',\n",
       " 'radioquestion',\n",
       " 'radioquestion',\n",
       " 'radioquestion',\n",
       " 'textfieldquestion',\n",
       " 'textfieldquestion',\n",
       " 'other',\n",
       " 'textfieldquestion',\n",
       " 'noprobtype',\n",
       " 'noprobtype',\n",
       " 'noprobtype',\n",
       " 'noprobtype',\n",
       " 'textfieldquestion',\n",
       " 'noprobtype',\n",
       " 'noprobtype',\n",
       " 'noprobtype',\n",
       " 'noprobtype',\n",
       " 'noprobtype',\n",
       " 'other',\n",
       " 'other',\n",
       " 'other',\n",
       " 'other',\n",
       " 'radioquestion',\n",
       " 'radioquestion',\n",
       " 'other',\n",
       " 'algebra',\n",
       " 'noprobtype',\n",
       " 'noprobtype',\n",
       " 'noprobtype',\n",
       " 'noprobtype',\n",
       " 'noprobtype',\n",
       " 'noprobtype',\n",
       " 'noprobtype',\n",
       " 'noprobtype',\n",
       " 'noprobtype',\n",
       " 'noprobtype',\n",
       " 'noprobtype',\n",
       " 'noprobtype',\n",
       " 'textfieldquestion',\n",
       " 'textfieldquestion',\n",
       " 'textfieldquestion',\n",
       " 'textfieldquestion',\n",
       " 'textfieldquestion',\n",
       " 'textfieldquestion',\n",
       " 'textfieldquestion',\n",
       " 'textfieldquestion',\n",
       " 'textfieldquestion',\n",
       " 'textfieldquestion',\n",
       " 'textfieldquestion',\n",
       " 'textfieldquestion',\n",
       " 'algebra',\n",
       " 'algebra',\n",
       " 'algebra',\n",
       " 'algebra',\n",
       " 'algebra',\n",
       " 'algebra',\n",
       " 'algebra',\n",
       " 'algebra',\n",
       " 'algebra',\n",
       " 'algebra',\n",
       " 'algebra',\n",
       " 'algebra',\n",
       " 'algebra',\n",
       " 'other',\n",
       " 'other',\n",
       " 'radioquestion',\n",
       " 'radioquestion',\n",
       " 'radioquestion',\n",
       " 'radioquestion',\n",
       " 'radioquestion',\n",
       " 'radioquestion',\n",
       " 'radioquestion',\n",
       " 'radioquestion',\n",
       " 'radioquestion',\n",
       " 'radioquestion',\n",
       " 'textfieldquestion',\n",
       " 'radioquestion',\n",
       " 'radioquestion',\n",
       " 'radioquestion',\n",
       " 'textfieldquestion',\n",
       " 'textfieldquestion',\n",
       " 'textfieldquestion',\n",
       " 'radioquestion',\n",
       " 'radioquestion',\n",
       " 'radioquestion',\n",
       " 'radioquestion',\n",
       " 'radioquestion',\n",
       " 'radioquestion',\n",
       " 'radioquestion',\n",
       " 'radioquestion',\n",
       " 'textfieldquestion',\n",
       " 'radioquestion',\n",
       " 'radioquestion',\n",
       " 'radioquestion',\n",
       " 'textfieldquestion',\n",
       " 'textfieldquestion',\n",
       " 'textfieldquestion',\n",
       " 'radioquestion',\n",
       " 'radioquestion',\n",
       " 'radioquestion',\n",
       " 'radioquestion',\n",
       " 'algebra',\n",
       " 'algebra',\n",
       " 'algebra',\n",
       " 'algebra',\n",
       " 'algebra',\n",
       " 'algebra',\n",
       " 'algebra',\n",
       " 'algebra',\n",
       " 'textfieldquestion',\n",
       " 'algebra',\n",
       " 'algebra',\n",
       " 'algebra',\n",
       " 'algebra',\n",
       " 'textfieldquestion',\n",
       " 'textfieldquestion',\n",
       " 'textfieldquestion',\n",
       " 'textfieldquestion',\n",
       " 'textfieldquestion',\n",
       " 'textfieldquestion',\n",
       " 'textfieldquestion',\n",
       " 'other',\n",
       " 'other',\n",
       " 'other',\n",
       " 'other',\n",
       " 'other',\n",
       " 'other',\n",
       " 'other',\n",
       " 'other',\n",
       " 'other',\n",
       " 'radioquestion',\n",
       " 'radioquestion',\n",
       " 'radioquestion',\n",
       " 'radioquestion',\n",
       " 'radioquestion',\n",
       " 'other',\n",
       " 'other',\n",
       " 'radioquestion',\n",
       " 'radioquestion',\n",
       " 'radioquestion',\n",
       " 'radioquestion',\n",
       " 'popupmenuquestion',\n",
       " 'popupmenuquestion',\n",
       " 'radioquestion',\n",
       " 'algebra',\n",
       " 'noprobtype',\n",
       " 'noprobtype',\n",
       " 'noprobtype',\n",
       " 'noprobtype',\n",
       " 'noprobtype',\n",
       " 'noprobtype',\n",
       " 'noprobtype',\n",
       " 'noprobtype',\n",
       " 'noprobtype',\n",
       " 'noprobtype',\n",
       " 'noprobtype',\n",
       " 'noprobtype',\n",
       " 'noprobtype',\n",
       " 'noprobtype',\n",
       " 'noprobtype',\n",
       " 'noprobtype',\n",
       " 'noprobtype',\n",
       " 'noprobtype',\n",
       " 'noprobtype',\n",
       " 'noprobtype',\n",
       " 'noprobtype',\n",
       " 'noprobtype',\n",
       " 'noprobtype',\n",
       " 'noprobtype',\n",
       " 'radioquestion',\n",
       " 'radioquestion',\n",
       " 'radioquestion',\n",
       " 'radioquestion',\n",
       " 'radioquestion',\n",
       " 'radioquestion',\n",
       " 'radioquestion',\n",
       " 'radioquestion',\n",
       " 'radioquestion',\n",
       " 'radioquestion',\n",
       " 'radioquestion',\n",
       " 'textfieldquestion',\n",
       " 'textfieldquestion',\n",
       " 'textfieldquestion',\n",
       " 'textfieldquestion',\n",
       " 'textfieldquestion',\n",
       " 'textfieldquestion',\n",
       " 'textfieldquestion',\n",
       " 'algebra',\n",
       " 'algebra',\n",
       " 'textfieldquestion',\n",
       " 'radioquestion',\n",
       " 'noprobtype',\n",
       " 'noprobtype',\n",
       " 'noprobtype',\n",
       " 'noprobtype',\n",
       " 'noprobtype',\n",
       " 'radioquestion',\n",
       " 'radioquestion',\n",
       " 'radioquestion',\n",
       " 'radioquestion',\n",
       " 'radioquestion',\n",
       " 'algebra',\n",
       " 'algebra',\n",
       " 'algebra',\n",
       " 'algebra',\n",
       " 'algebra',\n",
       " 'algebra',\n",
       " 'radioquestion',\n",
       " 'radioquestion',\n",
       " 'radioquestion',\n",
       " 'textfieldquestion',\n",
       " 'textfieldquestion',\n",
       " 'radioquestion',\n",
       " 'radioquestion',\n",
       " 'radioquestion',\n",
       " 'textfieldquestion',\n",
       " 'textfieldquestion',\n",
       " 'textfieldquestion',\n",
       " 'textfieldquestion',\n",
       " 'textfieldquestion',\n",
       " 'textfieldquestion',\n",
       " 'radioquestion',\n",
       " 'radioquestion',\n",
       " 'other',\n",
       " 'radioquestion',\n",
       " 'radioquestion',\n",
       " 'other',\n",
       " 'other',\n",
       " 'other',\n",
       " 'other',\n",
       " 'other',\n",
       " 'other',\n",
       " 'other',\n",
       " 'other',\n",
       " 'other',\n",
       " 'other',\n",
       " 'other',\n",
       " 'other',\n",
       " 'other',\n",
       " 'other',\n",
       " 'other',\n",
       " 'other',\n",
       " 'other',\n",
       " 'other',\n",
       " 'other',\n",
       " 'other',\n",
       " 'other',\n",
       " 'other',\n",
       " 'other',\n",
       " 'radioquestion',\n",
       " 'algebra',\n",
       " 'algebra',\n",
       " 'algebra',\n",
       " 'algebra',\n",
       " 'radioquestion',\n",
       " 'radioquestion',\n",
       " 'radioquestion',\n",
       " 'textfieldquestion',\n",
       " 'algebra',\n",
       " 'radioquestion',\n",
       " 'radioquestion',\n",
       " 'textfieldquestion',\n",
       " 'textfieldquestion',\n",
       " 'textfieldquestion',\n",
       " 'textfieldquestion',\n",
       " 'textfieldquestion',\n",
       " 'textfieldquestion',\n",
       " 'textfieldquestion',\n",
       " 'textfieldquestion',\n",
       " 'textfieldquestion',\n",
       " 'textfieldquestion',\n",
       " 'textfieldquestion',\n",
       " 'textfieldquestion',\n",
       " 'textfieldquestion',\n",
       " 'textfieldquestion',\n",
       " 'textfieldquestion',\n",
       " 'textfieldquestion',\n",
       " 'textfieldquestion',\n",
       " 'radioquestion',\n",
       " 'noprobtype',\n",
       " 'noprobtype',\n",
       " 'noprobtype',\n",
       " 'noprobtype',\n",
       " 'noprobtype',\n",
       " 'noprobtype',\n",
       " 'noprobtype',\n",
       " 'noprobtype',\n",
       " 'noprobtype',\n",
       " 'noprobtype',\n",
       " 'noprobtype',\n",
       " 'noprobtype',\n",
       " 'noprobtype',\n",
       " 'noprobtype',\n",
       " 'noprobtype',\n",
       " 'noprobtype',\n",
       " 'noprobtype',\n",
       " 'textfieldquestion',\n",
       " 'radioquestion',\n",
       " 'radioquestion',\n",
       " 'radioquestion',\n",
       " 'textfieldquestion',\n",
       " 'textfieldquestion',\n",
       " 'textfieldquestion',\n",
       " 'radioquestion',\n",
       " 'radioquestion',\n",
       " 'radioquestion',\n",
       " 'textfieldquestion',\n",
       " 'textfieldquestion',\n",
       " 'textfieldquestion',\n",
       " 'radioquestion',\n",
       " 'radioquestion',\n",
       " 'radioquestion',\n",
       " 'textfieldquestion',\n",
       " 'textfieldquestion',\n",
       " 'textfieldquestion',\n",
       " 'textfieldquestion',\n",
       " 'textfieldquestion',\n",
       " 'textfieldquestion',\n",
       " 'textfieldquestion',\n",
       " 'textfieldquestion',\n",
       " 'textfieldquestion',\n",
       " 'textfieldquestion',\n",
       " 'textfieldquestion',\n",
       " 'textfieldquestion',\n",
       " 'textfieldquestion',\n",
       " 'textfieldquestion',\n",
       " 'textfieldquestion',\n",
       " 'textfieldquestion',\n",
       " 'textfieldquestion',\n",
       " 'textfieldquestion',\n",
       " 'textfieldquestion',\n",
       " 'textfieldquestion',\n",
       " 'textfieldquestion',\n",
       " 'textfieldquestion',\n",
       " 'textfieldquestion',\n",
       " 'radioquestion',\n",
       " 'radioquestion',\n",
       " 'radioquestion',\n",
       " 'radioquestion',\n",
       " 'algebra',\n",
       " 'algebra',\n",
       " 'algebra',\n",
       " 'algebra',\n",
       " 'algebra',\n",
       " 'algebra',\n",
       " 'textfieldquestion',\n",
       " 'textfieldquestion',\n",
       " 'textfieldquestion',\n",
       " 'textfieldquestion',\n",
       " 'textfieldquestion',\n",
       " 'textfieldquestion',\n",
       " 'textfieldquestion',\n",
       " 'textfieldquestion',\n",
       " 'textfieldquestion',\n",
       " 'textfieldquestion',\n",
       " 'textfieldquestion',\n",
       " 'textfieldquestion',\n",
       " 'radioquestion',\n",
       " 'radioquestion',\n",
       " 'radioquestion',\n",
       " 'radioquestion',\n",
       " 'radioquestion',\n",
       " 'radioquestion',\n",
       " 'radioquestion',\n",
       " 'other',\n",
       " 'radioquestion',\n",
       " 'radioquestion',\n",
       " 'radioquestion',\n",
       " 'radioquestion',\n",
       " 'radioquestion',\n",
       " 'radioquestion',\n",
       " 'radioquestion',\n",
       " 'radioquestion',\n",
       " 'other',\n",
       " 'other',\n",
       " 'textfieldquestion',\n",
       " 'radioquestion',\n",
       " 'radioquestion',\n",
       " 'radioquestion',\n",
       " 'textfieldquestion',\n",
       " 'radioquestion',\n",
       " 'radioquestion',\n",
       " 'textfieldquestion',\n",
       " 'textfieldquestion',\n",
       " 'textfieldquestion',\n",
       " 'textfieldquestion',\n",
       " 'popupmenuquestion',\n",
       " 'radioquestion',\n",
       " 'radioquestion',\n",
       " 'radioquestion',\n",
       " 'radioquestion',\n",
       " 'radioquestion',\n",
       " 'radioquestion',\n",
       " 'other',\n",
       " 'popupmenuquestion',\n",
       " 'radioquestion',\n",
       " 'popupmenuquestion',\n",
       " 'popupmenuquestion',\n",
       " 'popupmenuquestion',\n",
       " 'radioquestion',\n",
       " 'radioquestion',\n",
       " 'radioquestion',\n",
       " 'other',\n",
       " 'other',\n",
       " 'other',\n",
       " 'other',\n",
       " 'textfieldquestion',\n",
       " 'textfieldquestion',\n",
       " 'textfieldquestion',\n",
       " 'textfieldquestion',\n",
       " 'textfieldquestion',\n",
       " 'textfieldquestion',\n",
       " 'textfieldquestion',\n",
       " 'textfieldquestion',\n",
       " 'other',\n",
       " 'textfieldquestion',\n",
       " 'textfieldquestion',\n",
       " 'textfieldquestion',\n",
       " 'textfieldquestion',\n",
       " 'radioquestion',\n",
       " 'textfieldquestion',\n",
       " 'radioquestion',\n",
       " 'radioquestion',\n",
       " 'radioquestion',\n",
       " 'radioquestion',\n",
       " 'radioquestion',\n",
       " 'other',\n",
       " 'radioquestion',\n",
       " 'radioquestion',\n",
       " 'radioquestion',\n",
       " 'radioquestion',\n",
       " 'radioquestion',\n",
       " 'algebra',\n",
       " 'algebra',\n",
       " 'algebra',\n",
       " 'algebra',\n",
       " 'algebra',\n",
       " 'algebra',\n",
       " 'algebra',\n",
       " 'algebra',\n",
       " 'algebra',\n",
       " 'algebra',\n",
       " 'algebra',\n",
       " 'algebra',\n",
       " 'algebra',\n",
       " 'algebra',\n",
       " 'textfieldquestion',\n",
       " 'radioquestion',\n",
       " 'radioquestion',\n",
       " 'radioquestion',\n",
       " 'textfieldquestion',\n",
       " 'textfieldquestion',\n",
       " 'textfieldquestion',\n",
       " 'noprobtype',\n",
       " 'noprobtype',\n",
       " 'noprobtype',\n",
       " 'noprobtype',\n",
       " 'noprobtype',\n",
       " 'noprobtype',\n",
       " 'noprobtype',\n",
       " 'noprobtype',\n",
       " 'noprobtype',\n",
       " 'other',\n",
       " 'other',\n",
       " 'other',\n",
       " 'other',\n",
       " 'other',\n",
       " 'other',\n",
       " 'other',\n",
       " 'other',\n",
       " 'other',\n",
       " 'other',\n",
       " 'other',\n",
       " 'radioquestion',\n",
       " 'popupmenuquestion',\n",
       " 'popupmenuquestion',\n",
       " 'radioquestion',\n",
       " 'radioquestion',\n",
       " 'radioquestion',\n",
       " 'textfieldquestion',\n",
       " 'textfieldquestion',\n",
       " 'algebra',\n",
       " 'radioquestion',\n",
       " 'radioquestion',\n",
       " 'algebra',\n",
       " 'algebra',\n",
       " 'algebra',\n",
       " ...]"
      ]
     },
     "execution_count": 6,
     "metadata": {},
     "output_type": "execute_result"
    }
   ],
   "source": [
    "df[df['problemType'] != \"noprotype\"]['problemType'].tolist()"
   ]
  },
  {
   "cell_type": "code",
   "execution_count": 3,
   "id": "ef7df078",
   "metadata": {},
   "outputs": [
    {
     "name": "stderr",
     "output_type": "stream",
     "text": [
      "/tmp/ipykernel_19370/452367036.py:6: SettingWithCopyWarning: \n",
      "A value is trying to be set on a copy of a slice from a DataFrame.\n",
      "Try using .loc[row_indexer,col_indexer] = value instead\n",
      "\n",
      "See the caveats in the documentation: https://pandas.pydata.org/pandas-docs/stable/user_guide/indexing.html#returning-a-view-versus-a-copy\n",
      "  df['skill_id'], _ = pd.factorize(df['skill'])\n"
     ]
    }
   ],
   "source": [
    " # preprocess assist2017\n",
    "read_col = ['studentId', 'assignmentId', 'assistmentId', 'problemId', 'correct','skill', 'original']\n",
    "target = 'correct'\n",
    "\n",
    "df = df[read_col]\n",
    "df['skill_id'], _ = pd.factorize(df['skill'])\n",
    "# df"
   ]
  },
  {
   "cell_type": "code",
   "execution_count": 4,
   "id": "8146a3f8",
   "metadata": {},
   "outputs": [
    {
     "name": "stdout",
     "output_type": "stream",
     "text": [
      "After removing empty skill_id, records number 942816\n"
     ]
    }
   ],
   "source": [
    "# delete empty skill_id\n",
    "df = df.dropna(subset=['skill_id'])\n",
    "df = df[~df['skill_id'].isin(['noskill'])]\n",
    "df.skill_id = df.skill_id.astype('int')\n",
    "print('After removing empty skill_id, records number %d' % len(df))"
   ]
  },
  {
   "cell_type": "code",
   "execution_count": 22,
   "id": "2c0c1ce7",
   "metadata": {},
   "outputs": [
    {
     "data": {
      "text/html": [
       "<div>\n",
       "<style scoped>\n",
       "    .dataframe tbody tr th:only-of-type {\n",
       "        vertical-align: middle;\n",
       "    }\n",
       "\n",
       "    .dataframe tbody tr th {\n",
       "        vertical-align: top;\n",
       "    }\n",
       "\n",
       "    .dataframe thead th {\n",
       "        text-align: right;\n",
       "    }\n",
       "</style>\n",
       "<table border=\"1\" class=\"dataframe\">\n",
       "  <thead>\n",
       "    <tr style=\"text-align: right;\">\n",
       "      <th></th>\n",
       "      <th>studentId</th>\n",
       "      <th>assignmentId</th>\n",
       "      <th>assistmentId</th>\n",
       "      <th>problemId</th>\n",
       "      <th>correct</th>\n",
       "      <th>skill</th>\n",
       "      <th>original</th>\n",
       "      <th>skill_id</th>\n",
       "    </tr>\n",
       "  </thead>\n",
       "  <tbody>\n",
       "    <tr>\n",
       "      <th>0</th>\n",
       "      <td>8</td>\n",
       "      <td>20405010</td>\n",
       "      <td>104051118</td>\n",
       "      <td>1118</td>\n",
       "      <td>0</td>\n",
       "      <td>properties-of-geometric-figures</td>\n",
       "      <td>1</td>\n",
       "      <td>72</td>\n",
       "    </tr>\n",
       "    <tr>\n",
       "      <th>7</th>\n",
       "      <td>8</td>\n",
       "      <td>20405010</td>\n",
       "      <td>104051088</td>\n",
       "      <td>1088</td>\n",
       "      <td>0</td>\n",
       "      <td>point-plotting</td>\n",
       "      <td>1</td>\n",
       "      <td>69</td>\n",
       "    </tr>\n",
       "    <tr>\n",
       "      <th>16</th>\n",
       "      <td>8</td>\n",
       "      <td>20405010</td>\n",
       "      <td>104051074</td>\n",
       "      <td>1074</td>\n",
       "      <td>1</td>\n",
       "      <td>reading-graph</td>\n",
       "      <td>1</td>\n",
       "      <td>78</td>\n",
       "    </tr>\n",
       "    <tr>\n",
       "      <th>17</th>\n",
       "      <td>8</td>\n",
       "      <td>20405010</td>\n",
       "      <td>104051204</td>\n",
       "      <td>1204</td>\n",
       "      <td>0</td>\n",
       "      <td>area</td>\n",
       "      <td>1</td>\n",
       "      <td>14</td>\n",
       "    </tr>\n",
       "    <tr>\n",
       "      <th>22</th>\n",
       "      <td>8</td>\n",
       "      <td>20405010</td>\n",
       "      <td>104051182</td>\n",
       "      <td>1182</td>\n",
       "      <td>0</td>\n",
       "      <td>area</td>\n",
       "      <td>1</td>\n",
       "      <td>14</td>\n",
       "    </tr>\n",
       "    <tr>\n",
       "      <th>...</th>\n",
       "      <td>...</td>\n",
       "      <td>...</td>\n",
       "      <td>...</td>\n",
       "      <td>...</td>\n",
       "      <td>...</td>\n",
       "      <td>...</td>\n",
       "      <td>...</td>\n",
       "      <td>...</td>\n",
       "    </tr>\n",
       "    <tr>\n",
       "      <th>942782</th>\n",
       "      <td>7783</td>\n",
       "      <td>723</td>\n",
       "      <td>441</td>\n",
       "      <td>441</td>\n",
       "      <td>1</td>\n",
       "      <td>symbolization-articulation</td>\n",
       "      <td>1</td>\n",
       "      <td>96</td>\n",
       "    </tr>\n",
       "    <tr>\n",
       "      <th>942783</th>\n",
       "      <td>7783</td>\n",
       "      <td>723</td>\n",
       "      <td>4003</td>\n",
       "      <td>4003</td>\n",
       "      <td>0</td>\n",
       "      <td>exponents</td>\n",
       "      <td>1</td>\n",
       "      <td>30</td>\n",
       "    </tr>\n",
       "    <tr>\n",
       "      <th>942787</th>\n",
       "      <td>7783</td>\n",
       "      <td>723</td>\n",
       "      <td>1644</td>\n",
       "      <td>1644</td>\n",
       "      <td>0</td>\n",
       "      <td>proportion</td>\n",
       "      <td>1</td>\n",
       "      <td>74</td>\n",
       "    </tr>\n",
       "    <tr>\n",
       "      <th>942793</th>\n",
       "      <td>7783</td>\n",
       "      <td>723</td>\n",
       "      <td>2274</td>\n",
       "      <td>2274</td>\n",
       "      <td>0</td>\n",
       "      <td>mean</td>\n",
       "      <td>1</td>\n",
       "      <td>50</td>\n",
       "    </tr>\n",
       "    <tr>\n",
       "      <th>942815</th>\n",
       "      <td>7783</td>\n",
       "      <td>723</td>\n",
       "      <td>836</td>\n",
       "      <td>836</td>\n",
       "      <td>1</td>\n",
       "      <td>multiplying-decimals</td>\n",
       "      <td>1</td>\n",
       "      <td>56</td>\n",
       "    </tr>\n",
       "  </tbody>\n",
       "</table>\n",
       "<p>249105 rows × 8 columns</p>\n",
       "</div>"
      ],
      "text/plain": [
       "        studentId  assignmentId  assistmentId  problemId  correct  \\\n",
       "0               8      20405010     104051118       1118        0   \n",
       "7               8      20405010     104051088       1088        0   \n",
       "16              8      20405010     104051074       1074        1   \n",
       "17              8      20405010     104051204       1204        0   \n",
       "22              8      20405010     104051182       1182        0   \n",
       "...           ...           ...           ...        ...      ...   \n",
       "942782       7783           723           441        441        1   \n",
       "942783       7783           723          4003       4003        0   \n",
       "942787       7783           723          1644       1644        0   \n",
       "942793       7783           723          2274       2274        0   \n",
       "942815       7783           723           836        836        1   \n",
       "\n",
       "                                  skill  original  skill_id  \n",
       "0       properties-of-geometric-figures         1        72  \n",
       "7                        point-plotting         1        69  \n",
       "16                        reading-graph         1        78  \n",
       "17                                 area         1        14  \n",
       "22                                 area         1        14  \n",
       "...                                 ...       ...       ...  \n",
       "942782       symbolization-articulation         1        96  \n",
       "942783                        exponents         1        30  \n",
       "942787                       proportion         1        74  \n",
       "942793                             mean         1        50  \n",
       "942815             multiplying-decimals         1        56  \n",
       "\n",
       "[249105 rows x 8 columns]"
      ]
     },
     "execution_count": 22,
     "metadata": {},
     "output_type": "execute_result"
    }
   ],
   "source": [
    "df[df['original'].isin([1])]"
   ]
  },
  {
   "cell_type": "code",
   "execution_count": 5,
   "id": "2fc99a9d",
   "metadata": {},
   "outputs": [
    {
     "name": "stdout",
     "output_type": "stream",
     "text": [
      "After removing scaffolding problems, records number 249105\n"
     ]
    }
   ],
   "source": [
    "# delete scaffolding problems\n",
    "df = df[df['original'].isin([1])]\n",
    "print('After removing scaffolding problems, records number %d' % len(df))"
   ]
  },
  {
   "cell_type": "code",
   "execution_count": 6,
   "id": "237335ee",
   "metadata": {},
   "outputs": [],
   "source": [
    "df.rename(columns={'studentId':'user_id', 'problemId':'problem_id'}, inplace=True)\n",
    "# df"
   ]
  },
  {
   "cell_type": "code",
   "execution_count": 7,
   "id": "bcd96108",
   "metadata": {
    "scrolled": true
   },
   "outputs": [
    {
     "name": "stdout",
     "output_type": "stream",
     "text": [
      "deleted user number based min-inters 3\n",
      "After deleting some users, records number 249102\n"
     ]
    }
   ],
   "source": [
    "min_inter_num = 3\n",
    "users = df.groupby(['user_id'], as_index=True)\n",
    "delete_users = []\n",
    "for u in users:\n",
    "    if len(u[1]) < min_inter_num:\n",
    "        delete_users.append(u[0])\n",
    "print('deleted user number based min-inters %d' % len(delete_users))\n",
    "df = df[~df['user_id'].isin(delete_users)]\n",
    "df = df[[ 'user_id', 'problem_id', 'skill_id', 'correct']]\n",
    "print('After deleting some users, records number %d' % len(df))"
   ]
  },
  {
   "cell_type": "code",
   "execution_count": 26,
   "id": "c5974172",
   "metadata": {},
   "outputs": [
    {
     "data": {
      "text/html": [
       "<div>\n",
       "<style scoped>\n",
       "    .dataframe tbody tr th:only-of-type {\n",
       "        vertical-align: middle;\n",
       "    }\n",
       "\n",
       "    .dataframe tbody tr th {\n",
       "        vertical-align: top;\n",
       "    }\n",
       "\n",
       "    .dataframe thead th {\n",
       "        text-align: right;\n",
       "    }\n",
       "</style>\n",
       "<table border=\"1\" class=\"dataframe\">\n",
       "  <thead>\n",
       "    <tr style=\"text-align: right;\">\n",
       "      <th></th>\n",
       "      <th>user_id</th>\n",
       "      <th>problem_id</th>\n",
       "      <th>skill_id</th>\n",
       "      <th>correct</th>\n",
       "    </tr>\n",
       "  </thead>\n",
       "  <tbody>\n",
       "    <tr>\n",
       "      <th>0</th>\n",
       "      <td>8</td>\n",
       "      <td>1118</td>\n",
       "      <td>72</td>\n",
       "      <td>0</td>\n",
       "    </tr>\n",
       "    <tr>\n",
       "      <th>7</th>\n",
       "      <td>8</td>\n",
       "      <td>1088</td>\n",
       "      <td>69</td>\n",
       "      <td>0</td>\n",
       "    </tr>\n",
       "    <tr>\n",
       "      <th>16</th>\n",
       "      <td>8</td>\n",
       "      <td>1074</td>\n",
       "      <td>78</td>\n",
       "      <td>1</td>\n",
       "    </tr>\n",
       "    <tr>\n",
       "      <th>17</th>\n",
       "      <td>8</td>\n",
       "      <td>1204</td>\n",
       "      <td>14</td>\n",
       "      <td>0</td>\n",
       "    </tr>\n",
       "    <tr>\n",
       "      <th>22</th>\n",
       "      <td>8</td>\n",
       "      <td>1182</td>\n",
       "      <td>14</td>\n",
       "      <td>0</td>\n",
       "    </tr>\n",
       "    <tr>\n",
       "      <th>...</th>\n",
       "      <td>...</td>\n",
       "      <td>...</td>\n",
       "      <td>...</td>\n",
       "      <td>...</td>\n",
       "    </tr>\n",
       "    <tr>\n",
       "      <th>942782</th>\n",
       "      <td>7783</td>\n",
       "      <td>441</td>\n",
       "      <td>96</td>\n",
       "      <td>1</td>\n",
       "    </tr>\n",
       "    <tr>\n",
       "      <th>942783</th>\n",
       "      <td>7783</td>\n",
       "      <td>4003</td>\n",
       "      <td>30</td>\n",
       "      <td>0</td>\n",
       "    </tr>\n",
       "    <tr>\n",
       "      <th>942787</th>\n",
       "      <td>7783</td>\n",
       "      <td>1644</td>\n",
       "      <td>74</td>\n",
       "      <td>0</td>\n",
       "    </tr>\n",
       "    <tr>\n",
       "      <th>942793</th>\n",
       "      <td>7783</td>\n",
       "      <td>2274</td>\n",
       "      <td>50</td>\n",
       "      <td>0</td>\n",
       "    </tr>\n",
       "    <tr>\n",
       "      <th>942815</th>\n",
       "      <td>7783</td>\n",
       "      <td>836</td>\n",
       "      <td>56</td>\n",
       "      <td>1</td>\n",
       "    </tr>\n",
       "  </tbody>\n",
       "</table>\n",
       "<p>249102 rows × 4 columns</p>\n",
       "</div>"
      ],
      "text/plain": [
       "        user_id  problem_id  skill_id  correct\n",
       "0             8        1118        72        0\n",
       "7             8        1088        69        0\n",
       "16            8        1074        78        1\n",
       "17            8        1204        14        0\n",
       "22            8        1182        14        0\n",
       "...         ...         ...       ...      ...\n",
       "942782     7783         441        96        1\n",
       "942783     7783        4003        30        0\n",
       "942787     7783        1644        74        0\n",
       "942793     7783        2274        50        0\n",
       "942815     7783         836        56        1\n",
       "\n",
       "[249102 rows x 4 columns]"
      ]
     },
     "execution_count": 26,
     "metadata": {},
     "output_type": "execute_result"
    }
   ],
   "source": [
    "df"
   ]
  },
  {
   "cell_type": "code",
   "execution_count": 8,
   "id": "87f569ba",
   "metadata": {},
   "outputs": [],
   "source": [
    "# 5,\"[55969, 55970, ...\n",
    "skill_df = df[['skill_id', 'problem_id']].groupby(['skill_id'], as_index=True).apply(lambda r: np.array(list(set(r['problem_id'].values))))\n",
    "# print(skill_df)\n",
    "joblib.dump(skill_df, './a17/skill_prob.pkl.zip')\n",
    "user_prob = df[['user_id', 'problem_id', 'correct']].groupby(['user_id', 'problem_id'])['correct'].agg('mean')\n"
   ]
  },
  {
   "cell_type": "code",
   "execution_count": null,
   "id": "d47e3335",
   "metadata": {},
   "outputs": [],
   "source": [
    "\n"
   ]
  },
  {
   "cell_type": "code",
   "execution_count": 9,
   "id": "ca7a27f4",
   "metadata": {},
   "outputs": [],
   "source": [
    "def co_acc_probs(user_prob, prob1, prob2):\n",
    "    count = 0\n",
    "    agg = 0\n",
    "    for user, prob in user_prob.index:\n",
    "        if prob == prob1:\n",
    "            if prob2 in user_prob[user].index:\n",
    "                count += 1\n",
    "                agg += user_prob[user][prob1] * user_prob[user][prob2]\n",
    "#                 print('user {} answered two questions, with {} answered {}, and {} answered {}'\n",
    "#                   .format(user, prob1, user_prob[user][prob1], prob2, user_prob[user][prob2]))\n",
    "    if count == 0:\n",
    "        return -1\n",
    "    else:\n",
    "        return agg/count\n",
    "\n",
    "\n",
    "def co_acc_skills(user_skill, skill1, skill2):\n",
    "    count = 0\n",
    "    agg = 0\n",
    "    for user, skill in user_skill.index:\n",
    "        if skill1 == skill: \n",
    "            if skill2 in user_skill[user].index:\n",
    "                count += 1\n",
    "                agg += user_skill[user][skill1] * user_skill[user][skill2]\n",
    "    if count == 0:\n",
    "        return -1\n",
    "    else:\n",
    "        return agg/count\n",
    "        "
   ]
  },
  {
   "cell_type": "code",
   "execution_count": 10,
   "id": "19ce5f30",
   "metadata": {},
   "outputs": [],
   "source": [
    "# e2e matrix\n",
    "skill_mats = []\n",
    "e2e = partial(co_acc_probs, user_prob)\n",
    "# e2e"
   ]
  },
  {
   "cell_type": "code",
   "execution_count": null,
   "id": "8791729b",
   "metadata": {},
   "outputs": [],
   "source": [
    "skill_df.index"
   ]
  },
  {
   "cell_type": "markdown",
   "id": "a8238b83",
   "metadata": {},
   "source": [
    "## Extract concept-to-concept matrix and exercise -to-exercise matrix"
   ]
  },
  {
   "cell_type": "code",
   "execution_count": 11,
   "id": "4afe1090",
   "metadata": {},
   "outputs": [
    {
     "name": "stderr",
     "output_type": "stream",
     "text": [
      "  0%|          | 0/86 [00:00<?, ?it/s]"
     ]
    },
    {
     "name": "stdout",
     "output_type": "stream",
     "text": [
      "processing skill:  0\n"
     ]
    },
    {
     "name": "stderr",
     "output_type": "stream",
     "text": [
      "  1%|          | 1/86 [00:08<11:23,  8.04s/it]"
     ]
    },
    {
     "name": "stdout",
     "output_type": "stream",
     "text": [
      "matrix size is:  55\n",
      "processing skill:  1\n"
     ]
    },
    {
     "name": "stderr",
     "output_type": "stream",
     "text": [
      "  2%|▏         | 2/86 [00:13<09:15,  6.61s/it]"
     ]
    },
    {
     "name": "stdout",
     "output_type": "stream",
     "text": [
      "matrix size is:  36\n",
      "processing skill:  2\n"
     ]
    },
    {
     "name": "stderr",
     "output_type": "stream",
     "text": [
      "  3%|▎         | 3/86 [00:22<10:22,  7.50s/it]"
     ]
    },
    {
     "name": "stdout",
     "output_type": "stream",
     "text": [
      "matrix size is:  120\n",
      "processing skill:  3\n"
     ]
    },
    {
     "name": "stderr",
     "output_type": "stream",
     "text": [
      "  5%|▍         | 4/86 [00:24<07:14,  5.29s/it]"
     ]
    },
    {
     "name": "stdout",
     "output_type": "stream",
     "text": [
      "matrix size is:  15\n",
      "processing skill:  4\n"
     ]
    },
    {
     "name": "stderr",
     "output_type": "stream",
     "text": [
      "  6%|▌         | 5/86 [00:35<09:57,  7.38s/it]"
     ]
    },
    {
     "name": "stdout",
     "output_type": "stream",
     "text": [
      "matrix size is:  153\n",
      "processing skill:  5\n"
     ]
    },
    {
     "name": "stderr",
     "output_type": "stream",
     "text": [
      "  7%|▋         | 6/86 [00:57<16:25, 12.31s/it]"
     ]
    },
    {
     "name": "stdout",
     "output_type": "stream",
     "text": [
      "matrix size is:  378\n",
      "processing skill:  7\n"
     ]
    },
    {
     "name": "stderr",
     "output_type": "stream",
     "text": [
      "  8%|▊         | 7/86 [01:05<14:21, 10.90s/it]"
     ]
    },
    {
     "name": "stdout",
     "output_type": "stream",
     "text": [
      "matrix size is:  66\n",
      "processing skill:  8\n"
     ]
    },
    {
     "name": "stderr",
     "output_type": "stream",
     "text": [
      "  9%|▉         | 8/86 [01:07<10:30,  8.08s/it]"
     ]
    },
    {
     "name": "stdout",
     "output_type": "stream",
     "text": [
      "matrix size is:  6\n",
      "processing skill:  10\n"
     ]
    },
    {
     "name": "stderr",
     "output_type": "stream",
     "text": [
      " 10%|█         | 9/86 [01:18<11:37,  9.06s/it]"
     ]
    },
    {
     "name": "stdout",
     "output_type": "stream",
     "text": [
      "matrix size is:  136\n",
      "processing skill:  11\n"
     ]
    },
    {
     "name": "stderr",
     "output_type": "stream",
     "text": [
      " 12%|█▏        | 10/86 [01:25<10:42,  8.46s/it]"
     ]
    },
    {
     "name": "stdout",
     "output_type": "stream",
     "text": [
      "matrix size is:  91\n",
      "processing skill:  12\n"
     ]
    },
    {
     "name": "stderr",
     "output_type": "stream",
     "text": [
      " 13%|█▎        | 11/86 [01:29<09:00,  7.21s/it]"
     ]
    },
    {
     "name": "stdout",
     "output_type": "stream",
     "text": [
      "matrix size is:  28\n",
      "processing skill:  13\n"
     ]
    },
    {
     "name": "stderr",
     "output_type": "stream",
     "text": [
      " 14%|█▍        | 12/86 [01:37<08:55,  7.23s/it]"
     ]
    },
    {
     "name": "stdout",
     "output_type": "stream",
     "text": [
      "matrix size is:  120\n",
      "processing skill:  14\n"
     ]
    },
    {
     "name": "stderr",
     "output_type": "stream",
     "text": [
      " 15%|█▌        | 13/86 [01:53<12:10, 10.00s/it]"
     ]
    },
    {
     "name": "stdout",
     "output_type": "stream",
     "text": [
      "matrix size is:  528\n",
      "processing skill:  21\n"
     ]
    },
    {
     "name": "stderr",
     "output_type": "stream",
     "text": [
      " 16%|█▋        | 14/86 [26:09<8:56:05, 446.75s/it]"
     ]
    },
    {
     "name": "stdout",
     "output_type": "stream",
     "text": [
      "matrix size is:  92235\n",
      "processing skill:  24\n"
     ]
    },
    {
     "name": "stderr",
     "output_type": "stream",
     "text": [
      " 17%|█▋        | 15/86 [26:11<6:10:03, 312.73s/it]"
     ]
    },
    {
     "name": "stdout",
     "output_type": "stream",
     "text": [
      "matrix size is:  3\n",
      "processing skill:  25\n"
     ]
    },
    {
     "name": "stderr",
     "output_type": "stream",
     "text": [
      " 19%|█▊        | 16/86 [26:16<4:16:56, 220.23s/it]"
     ]
    },
    {
     "name": "stdout",
     "output_type": "stream",
     "text": [
      "matrix size is:  55\n",
      "processing skill:  26\n"
     ]
    },
    {
     "name": "stderr",
     "output_type": "stream",
     "text": [
      " 20%|█▉        | 17/86 [26:19<2:57:51, 154.66s/it]"
     ]
    },
    {
     "name": "stdout",
     "output_type": "stream",
     "text": [
      "matrix size is:  3\n",
      "processing skill:  27\n"
     ]
    },
    {
     "name": "stderr",
     "output_type": "stream",
     "text": [
      " 21%|██        | 18/86 [26:32<2:07:17, 112.31s/it]"
     ]
    },
    {
     "name": "stdout",
     "output_type": "stream",
     "text": [
      "matrix size is:  325\n",
      "processing skill:  29\n"
     ]
    },
    {
     "name": "stderr",
     "output_type": "stream",
     "text": [
      " 22%|██▏       | 19/86 [26:38<1:29:30, 80.16s/it] "
     ]
    },
    {
     "name": "stdout",
     "output_type": "stream",
     "text": [
      "matrix size is:  28\n",
      "processing skill:  30\n"
     ]
    },
    {
     "name": "stderr",
     "output_type": "stream",
     "text": [
      " 23%|██▎       | 20/86 [26:41<1:02:45, 57.05s/it]"
     ]
    },
    {
     "name": "stdout",
     "output_type": "stream",
     "text": [
      "matrix size is:  21\n",
      "processing skill:  31\n"
     ]
    },
    {
     "name": "stderr",
     "output_type": "stream",
     "text": [
      " 24%|██▍       | 21/86 [26:43<43:47, 40.43s/it]  "
     ]
    },
    {
     "name": "stdout",
     "output_type": "stream",
     "text": [
      "matrix size is:  6\n",
      "processing skill:  32\n"
     ]
    },
    {
     "name": "stderr",
     "output_type": "stream",
     "text": [
      " 26%|██▌       | 22/86 [26:46<31:23, 29.42s/it]"
     ]
    },
    {
     "name": "stdout",
     "output_type": "stream",
     "text": [
      "matrix size is:  6\n",
      "processing skill:  33\n"
     ]
    },
    {
     "name": "stderr",
     "output_type": "stream",
     "text": [
      " 27%|██▋       | 23/86 [27:10<28:59, 27.61s/it]"
     ]
    },
    {
     "name": "stdout",
     "output_type": "stream",
     "text": [
      "matrix size is:  231\n",
      "processing skill:  34\n"
     ]
    },
    {
     "name": "stderr",
     "output_type": "stream",
     "text": [
      " 28%|██▊       | 24/86 [27:45<30:53, 29.89s/it]"
     ]
    },
    {
     "name": "stdout",
     "output_type": "stream",
     "text": [
      "matrix size is:  741\n",
      "processing skill:  35\n"
     ]
    },
    {
     "name": "stderr",
     "output_type": "stream",
     "text": [
      " 29%|██▉       | 25/86 [27:56<24:45, 24.35s/it]"
     ]
    },
    {
     "name": "stdout",
     "output_type": "stream",
     "text": [
      "matrix size is:  153\n",
      "processing skill:  36\n"
     ]
    },
    {
     "name": "stderr",
     "output_type": "stream",
     "text": [
      " 30%|███       | 26/86 [28:07<20:10, 20.17s/it]"
     ]
    },
    {
     "name": "stdout",
     "output_type": "stream",
     "text": [
      "matrix size is:  210\n",
      "processing skill:  37\n"
     ]
    },
    {
     "name": "stderr",
     "output_type": "stream",
     "text": [
      " 31%|███▏      | 27/86 [28:37<22:41, 23.07s/it]"
     ]
    },
    {
     "name": "stdout",
     "output_type": "stream",
     "text": [
      "matrix size is:  595\n",
      "processing skill:  38\n"
     ]
    },
    {
     "name": "stderr",
     "output_type": "stream",
     "text": [
      " 33%|███▎      | 28/86 [28:43<17:23, 17.98s/it]"
     ]
    },
    {
     "name": "stdout",
     "output_type": "stream",
     "text": [
      "matrix size is:  28\n",
      "processing skill:  39\n"
     ]
    },
    {
     "name": "stderr",
     "output_type": "stream",
     "text": [
      " 34%|███▎      | 29/86 [28:50<13:57, 14.69s/it]"
     ]
    },
    {
     "name": "stdout",
     "output_type": "stream",
     "text": [
      "matrix size is:  66\n",
      "processing skill:  40\n"
     ]
    },
    {
     "name": "stderr",
     "output_type": "stream",
     "text": [
      " 35%|███▍      | 30/86 [28:54<10:54, 11.68s/it]"
     ]
    },
    {
     "name": "stdout",
     "output_type": "stream",
     "text": [
      "matrix size is:  36\n",
      "processing skill:  41\n"
     ]
    },
    {
     "name": "stderr",
     "output_type": "stream",
     "text": [
      " 36%|███▌      | 31/86 [28:57<08:11,  8.94s/it]"
     ]
    },
    {
     "name": "stdout",
     "output_type": "stream",
     "text": [
      "matrix size is:  6\n",
      "processing skill:  42\n"
     ]
    },
    {
     "name": "stderr",
     "output_type": "stream",
     "text": [
      " 37%|███▋      | 32/86 [29:01<06:44,  7.49s/it]"
     ]
    },
    {
     "name": "stdout",
     "output_type": "stream",
     "text": [
      "matrix size is:  28\n",
      "processing skill:  43\n"
     ]
    },
    {
     "name": "stderr",
     "output_type": "stream",
     "text": [
      " 38%|███▊      | 33/86 [29:05<05:35,  6.33s/it]"
     ]
    },
    {
     "name": "stdout",
     "output_type": "stream",
     "text": [
      "matrix size is:  21\n",
      "processing skill:  44\n"
     ]
    },
    {
     "name": "stderr",
     "output_type": "stream",
     "text": [
      " 40%|███▉      | 34/86 [29:08<04:38,  5.36s/it]"
     ]
    },
    {
     "name": "stdout",
     "output_type": "stream",
     "text": [
      "matrix size is:  15\n",
      "processing skill:  45\n"
     ]
    },
    {
     "name": "stderr",
     "output_type": "stream",
     "text": [
      " 41%|████      | 35/86 [29:16<05:12,  6.13s/it]"
     ]
    },
    {
     "name": "stdout",
     "output_type": "stream",
     "text": [
      "matrix size is:  120\n",
      "processing skill:  46\n"
     ]
    },
    {
     "name": "stderr",
     "output_type": "stream",
     "text": [
      " 42%|████▏     | 36/86 [29:22<05:02,  6.06s/it]"
     ]
    },
    {
     "name": "stdout",
     "output_type": "stream",
     "text": [
      "matrix size is:  45\n",
      "processing skill:  47\n"
     ]
    },
    {
     "name": "stderr",
     "output_type": "stream",
     "text": [
      " 43%|████▎     | 37/86 [29:30<05:29,  6.73s/it]"
     ]
    },
    {
     "name": "stdout",
     "output_type": "stream",
     "text": [
      "matrix size is:  153\n",
      "processing skill:  48\n"
     ]
    },
    {
     "name": "stderr",
     "output_type": "stream",
     "text": [
      " 44%|████▍     | 38/86 [29:33<04:29,  5.62s/it]"
     ]
    },
    {
     "name": "stdout",
     "output_type": "stream",
     "text": [
      "matrix size is:  10\n",
      "processing skill:  49\n"
     ]
    },
    {
     "name": "stderr",
     "output_type": "stream",
     "text": [
      " 45%|████▌     | 39/86 [29:37<03:58,  5.07s/it]"
     ]
    },
    {
     "name": "stdout",
     "output_type": "stream",
     "text": [
      "matrix size is:  36\n",
      "processing skill:  50\n"
     ]
    },
    {
     "name": "stderr",
     "output_type": "stream",
     "text": [
      " 47%|████▋     | 40/86 [29:38<03:05,  4.03s/it]"
     ]
    },
    {
     "name": "stdout",
     "output_type": "stream",
     "text": [
      "matrix size is:  10\n",
      "processing skill:  51\n"
     ]
    },
    {
     "name": "stderr",
     "output_type": "stream",
     "text": [
      " 48%|████▊     | 41/86 [29:44<03:30,  4.69s/it]"
     ]
    },
    {
     "name": "stdout",
     "output_type": "stream",
     "text": [
      "matrix size is:  66\n",
      "processing skill:  52\n"
     ]
    },
    {
     "name": "stderr",
     "output_type": "stream",
     "text": [
      " 49%|████▉     | 42/86 [29:50<03:41,  5.03s/it]"
     ]
    },
    {
     "name": "stdout",
     "output_type": "stream",
     "text": [
      "matrix size is:  105\n",
      "processing skill:  53\n"
     ]
    },
    {
     "name": "stderr",
     "output_type": "stream",
     "text": [
      " 50%|█████     | 43/86 [29:53<03:07,  4.37s/it]"
     ]
    },
    {
     "name": "stdout",
     "output_type": "stream",
     "text": [
      "matrix size is:  6\n",
      "processing skill:  54\n"
     ]
    },
    {
     "name": "stderr",
     "output_type": "stream",
     "text": [
      " 51%|█████     | 44/86 [29:59<03:20,  4.77s/it]"
     ]
    },
    {
     "name": "stdout",
     "output_type": "stream",
     "text": [
      "matrix size is:  105\n",
      "processing skill:  55\n"
     ]
    },
    {
     "name": "stderr",
     "output_type": "stream",
     "text": [
      " 52%|█████▏    | 45/86 [30:01<02:40,  3.92s/it]"
     ]
    },
    {
     "name": "stdout",
     "output_type": "stream",
     "text": [
      "matrix size is:  10\n",
      "processing skill:  56\n"
     ]
    },
    {
     "name": "stderr",
     "output_type": "stream",
     "text": [
      " 53%|█████▎    | 46/86 [30:11<03:49,  5.75s/it]"
     ]
    },
    {
     "name": "stdout",
     "output_type": "stream",
     "text": [
      "matrix size is:  171\n",
      "processing skill:  57\n"
     ]
    },
    {
     "name": "stderr",
     "output_type": "stream",
     "text": [
      " 55%|█████▍    | 47/86 [30:13<02:58,  4.57s/it]"
     ]
    },
    {
     "name": "stdout",
     "output_type": "stream",
     "text": [
      "matrix size is:  6\n",
      "processing skill:  58\n"
     ]
    },
    {
     "name": "stderr",
     "output_type": "stream",
     "text": [
      " 56%|█████▌    | 48/86 [31:23<15:19, 24.21s/it]"
     ]
    },
    {
     "name": "stdout",
     "output_type": "stream",
     "text": [
      "matrix size is:  1485\n",
      "processing skill:  59\n"
     ]
    },
    {
     "name": "stderr",
     "output_type": "stream",
     "text": [
      " 57%|█████▋    | 49/86 [31:27<11:20, 18.40s/it]"
     ]
    },
    {
     "name": "stdout",
     "output_type": "stream",
     "text": [
      "matrix size is:  45\n",
      "processing skill:  60\n"
     ]
    },
    {
     "name": "stderr",
     "output_type": "stream",
     "text": [
      " 58%|█████▊    | 50/86 [31:41<10:06, 16.85s/it]"
     ]
    },
    {
     "name": "stdout",
     "output_type": "stream",
     "text": [
      "matrix size is:  325\n",
      "processing skill:  61\n"
     ]
    },
    {
     "name": "stderr",
     "output_type": "stream",
     "text": [
      " 59%|█████▉    | 51/86 [31:45<07:37, 13.06s/it]"
     ]
    },
    {
     "name": "stdout",
     "output_type": "stream",
     "text": [
      "matrix size is:  45\n",
      "processing skill:  62\n"
     ]
    },
    {
     "name": "stderr",
     "output_type": "stream",
     "text": [
      " 60%|██████    | 52/86 [31:48<05:41, 10.05s/it]"
     ]
    },
    {
     "name": "stdout",
     "output_type": "stream",
     "text": [
      "matrix size is:  6\n",
      "processing skill:  63\n"
     ]
    },
    {
     "name": "stderr",
     "output_type": "stream",
     "text": [
      " 62%|██████▏   | 53/86 [31:59<05:44, 10.44s/it]"
     ]
    },
    {
     "name": "stdout",
     "output_type": "stream",
     "text": [
      "matrix size is:  171\n",
      "processing skill:  64\n"
     ]
    },
    {
     "name": "stderr",
     "output_type": "stream",
     "text": [
      " 63%|██████▎   | 54/86 [32:05<04:46,  8.94s/it]"
     ]
    },
    {
     "name": "stdout",
     "output_type": "stream",
     "text": [
      "matrix size is:  78\n",
      "processing skill:  65\n"
     ]
    },
    {
     "name": "stderr",
     "output_type": "stream",
     "text": [
      " 64%|██████▍   | 55/86 [32:08<03:43,  7.20s/it]"
     ]
    },
    {
     "name": "stdout",
     "output_type": "stream",
     "text": [
      "matrix size is:  45\n",
      "processing skill:  66\n"
     ]
    },
    {
     "name": "stderr",
     "output_type": "stream",
     "text": [
      " 65%|██████▌   | 56/86 [32:11<02:58,  5.95s/it]"
     ]
    },
    {
     "name": "stdout",
     "output_type": "stream",
     "text": [
      "matrix size is:  15\n",
      "processing skill:  67\n"
     ]
    },
    {
     "name": "stderr",
     "output_type": "stream",
     "text": [
      " 66%|██████▋   | 57/86 [32:17<02:52,  5.95s/it]"
     ]
    },
    {
     "name": "stdout",
     "output_type": "stream",
     "text": [
      "matrix size is:  78\n",
      "processing skill:  68\n"
     ]
    },
    {
     "name": "stderr",
     "output_type": "stream",
     "text": [
      " 67%|██████▋   | 58/86 [32:20<02:20,  5.01s/it]"
     ]
    },
    {
     "name": "stdout",
     "output_type": "stream",
     "text": [
      "matrix size is:  28\n",
      "processing skill:  69\n"
     ]
    },
    {
     "name": "stderr",
     "output_type": "stream",
     "text": [
      " 69%|██████▊   | 59/86 [32:23<02:00,  4.47s/it]"
     ]
    },
    {
     "name": "stdout",
     "output_type": "stream",
     "text": [
      "matrix size is:  28\n",
      "processing skill:  70\n"
     ]
    },
    {
     "name": "stderr",
     "output_type": "stream",
     "text": [
      " 70%|██████▉   | 60/86 [32:29<02:08,  4.93s/it]"
     ]
    },
    {
     "name": "stdout",
     "output_type": "stream",
     "text": [
      "matrix size is:  36\n",
      "processing skill:  71\n"
     ]
    },
    {
     "name": "stderr",
     "output_type": "stream",
     "text": [
      " 71%|███████   | 61/86 [32:32<01:46,  4.27s/it]"
     ]
    },
    {
     "name": "stdout",
     "output_type": "stream",
     "text": [
      "matrix size is:  15\n",
      "processing skill:  72\n"
     ]
    },
    {
     "name": "stderr",
     "output_type": "stream",
     "text": [
      " 72%|███████▏  | 62/86 [32:38<01:54,  4.76s/it]"
     ]
    },
    {
     "name": "stdout",
     "output_type": "stream",
     "text": [
      "matrix size is:  66\n",
      "processing skill:  73\n"
     ]
    },
    {
     "name": "stderr",
     "output_type": "stream",
     "text": [
      " 73%|███████▎  | 63/86 [32:39<01:26,  3.77s/it]"
     ]
    },
    {
     "name": "stdout",
     "output_type": "stream",
     "text": [
      "matrix size is:  6\n",
      "processing skill:  74\n"
     ]
    },
    {
     "name": "stderr",
     "output_type": "stream",
     "text": [
      " 74%|███████▍  | 64/86 [32:40<01:05,  2.99s/it]"
     ]
    },
    {
     "name": "stdout",
     "output_type": "stream",
     "text": [
      "matrix size is:  3\n",
      "processing skill:  75\n"
     ]
    },
    {
     "name": "stderr",
     "output_type": "stream",
     "text": [
      " 76%|███████▌  | 65/86 [32:44<01:06,  3.18s/it]"
     ]
    },
    {
     "name": "stdout",
     "output_type": "stream",
     "text": [
      "matrix size is:  28\n",
      "processing skill:  76\n"
     ]
    },
    {
     "name": "stderr",
     "output_type": "stream",
     "text": [
      " 77%|███████▋  | 66/86 [32:46<00:57,  2.87s/it]"
     ]
    },
    {
     "name": "stdout",
     "output_type": "stream",
     "text": [
      "matrix size is:  6\n",
      "processing skill:  77\n"
     ]
    },
    {
     "name": "stderr",
     "output_type": "stream",
     "text": [
      " 78%|███████▊  | 67/86 [32:48<00:50,  2.63s/it]"
     ]
    },
    {
     "name": "stdout",
     "output_type": "stream",
     "text": [
      "matrix size is:  6\n",
      "processing skill:  78\n"
     ]
    },
    {
     "name": "stderr",
     "output_type": "stream",
     "text": [
      " 79%|███████▉  | 68/86 [32:54<01:07,  3.73s/it]"
     ]
    },
    {
     "name": "stdout",
     "output_type": "stream",
     "text": [
      "matrix size is:  120\n",
      "processing skill:  80\n"
     ]
    },
    {
     "name": "stderr",
     "output_type": "stream",
     "text": [
      " 80%|████████  | 69/86 [32:57<00:58,  3.47s/it]"
     ]
    },
    {
     "name": "stdout",
     "output_type": "stream",
     "text": [
      "matrix size is:  3\n",
      "processing skill:  81\n"
     ]
    },
    {
     "name": "stderr",
     "output_type": "stream",
     "text": [
      " 81%|████████▏ | 70/86 [33:00<00:51,  3.23s/it]"
     ]
    },
    {
     "name": "stdout",
     "output_type": "stream",
     "text": [
      "matrix size is:  3\n",
      "processing skill:  82\n"
     ]
    },
    {
     "name": "stderr",
     "output_type": "stream",
     "text": [
      " 83%|████████▎ | 71/86 [33:03<00:48,  3.21s/it]"
     ]
    },
    {
     "name": "stdout",
     "output_type": "stream",
     "text": [
      "matrix size is:  3\n",
      "processing skill:  83\n"
     ]
    },
    {
     "name": "stderr",
     "output_type": "stream",
     "text": [
      " 84%|████████▎ | 72/86 [33:05<00:39,  2.81s/it]"
     ]
    },
    {
     "name": "stdout",
     "output_type": "stream",
     "text": [
      "matrix size is:  1\n",
      "processing skill:  86\n"
     ]
    },
    {
     "name": "stderr",
     "output_type": "stream",
     "text": [
      " 85%|████████▍ | 73/86 [33:10<00:46,  3.56s/it]"
     ]
    },
    {
     "name": "stdout",
     "output_type": "stream",
     "text": [
      "matrix size is:  6\n",
      "processing skill:  87\n"
     ]
    },
    {
     "name": "stderr",
     "output_type": "stream",
     "text": [
      " 86%|████████▌ | 74/86 [33:11<00:32,  2.71s/it]"
     ]
    },
    {
     "name": "stdout",
     "output_type": "stream",
     "text": [
      "matrix size is:  1\n",
      "processing skill:  88\n"
     ]
    },
    {
     "name": "stderr",
     "output_type": "stream",
     "text": [
      " 87%|████████▋ | 75/86 [33:12<00:24,  2.26s/it]"
     ]
    },
    {
     "name": "stdout",
     "output_type": "stream",
     "text": [
      "matrix size is:  1\n",
      "processing skill:  91\n"
     ]
    },
    {
     "name": "stderr",
     "output_type": "stream",
     "text": [
      " 88%|████████▊ | 76/86 [33:14<00:20,  2.06s/it]"
     ]
    },
    {
     "name": "stdout",
     "output_type": "stream",
     "text": [
      "matrix size is:  6\n",
      "processing skill:  92\n"
     ]
    },
    {
     "name": "stderr",
     "output_type": "stream",
     "text": [
      " 90%|████████▉ | 77/86 [33:15<00:17,  1.91s/it]"
     ]
    },
    {
     "name": "stdout",
     "output_type": "stream",
     "text": [
      "matrix size is:  3\n",
      "processing skill:  93\n"
     ]
    },
    {
     "name": "stderr",
     "output_type": "stream",
     "text": [
      " 91%|█████████ | 78/86 [33:18<00:16,  2.12s/it]"
     ]
    },
    {
     "name": "stdout",
     "output_type": "stream",
     "text": [
      "matrix size is:  21\n",
      "processing skill:  94\n"
     ]
    },
    {
     "name": "stderr",
     "output_type": "stream",
     "text": [
      " 92%|█████████▏| 79/86 [33:19<00:13,  1.93s/it]"
     ]
    },
    {
     "name": "stdout",
     "output_type": "stream",
     "text": [
      "matrix size is:  1\n",
      "processing skill:  95\n"
     ]
    },
    {
     "name": "stderr",
     "output_type": "stream",
     "text": [
      " 93%|█████████▎| 80/86 [33:20<00:09,  1.65s/it]"
     ]
    },
    {
     "name": "stdout",
     "output_type": "stream",
     "text": [
      "matrix size is:  1\n",
      "processing skill:  96\n"
     ]
    },
    {
     "name": "stderr",
     "output_type": "stream",
     "text": [
      " 94%|█████████▍| 81/86 [33:22<00:07,  1.59s/it]"
     ]
    },
    {
     "name": "stdout",
     "output_type": "stream",
     "text": [
      "matrix size is:  1\n",
      "processing skill:  97\n"
     ]
    },
    {
     "name": "stderr",
     "output_type": "stream",
     "text": [
      " 95%|█████████▌| 82/86 [33:24<00:07,  1.83s/it]"
     ]
    },
    {
     "name": "stdout",
     "output_type": "stream",
     "text": [
      "matrix size is:  3\n",
      "processing skill:  98\n"
     ]
    },
    {
     "name": "stderr",
     "output_type": "stream",
     "text": [
      " 97%|█████████▋| 83/86 [33:25<00:04,  1.55s/it]"
     ]
    },
    {
     "name": "stdout",
     "output_type": "stream",
     "text": [
      "matrix size is:  1\n",
      "processing skill:  99\n"
     ]
    },
    {
     "name": "stderr",
     "output_type": "stream",
     "text": [
      " 98%|█████████▊| 84/86 [33:26<00:02,  1.47s/it]"
     ]
    },
    {
     "name": "stdout",
     "output_type": "stream",
     "text": [
      "matrix size is:  1\n",
      "processing skill:  100\n"
     ]
    },
    {
     "name": "stderr",
     "output_type": "stream",
     "text": [
      " 99%|█████████▉| 85/86 [33:27<00:01,  1.20s/it]"
     ]
    },
    {
     "name": "stdout",
     "output_type": "stream",
     "text": [
      "matrix size is:  1\n",
      "processing skill:  101\n"
     ]
    },
    {
     "name": "stderr",
     "output_type": "stream",
     "text": [
      "100%|██████████| 86/86 [33:28<00:00, 23.35s/it]"
     ]
    },
    {
     "name": "stdout",
     "output_type": "stream",
     "text": [
      "matrix size is:  1\n"
     ]
    },
    {
     "name": "stderr",
     "output_type": "stream",
     "text": [
      "\n"
     ]
    },
    {
     "data": {
      "text/plain": [
       "['./a17/nodel/para_e2e.pkl.zip']"
      ]
     },
     "execution_count": 11,
     "metadata": {},
     "output_type": "execute_result"
    }
   ],
   "source": [
    "pool = multiprocessing.Pool(processes=20)\n",
    "for skill in tqdm(skill_df.index):\n",
    "    print('processing skill: ', skill)\n",
    "    skill_probs = skill_df[skill]\n",
    "    row = []\n",
    "    col = []\n",
    "    args = ((prob1, prob2) for i, prob1 in enumerate(skill_probs) for prob2 in skill_probs[i:])\n",
    "    val = pool.starmap(e2e, args)\n",
    "    print('matrix size is: ', len(val))\n",
    "    for i in range(len(skill_probs)):\n",
    "        for j in range(i, len(skill_probs)):\n",
    "            row.append(i)\n",
    "            col.append(j)\n",
    "    assert(len(val)==len(row))\n",
    "    mat = coo_matrix((val, (row, col)), shape=(len(skill_probs), len(skill_probs)))\n",
    "    skill_mats.append(mat)\n",
    "joblib.dump(skill_mats, './a17/nodel/para_e2e.pkl.zip')"
   ]
  },
  {
   "cell_type": "code",
   "execution_count": null,
   "id": "8eb35e71",
   "metadata": {},
   "outputs": [],
   "source": []
  },
  {
   "cell_type": "code",
   "execution_count": 12,
   "id": "bb7261db",
   "metadata": {},
   "outputs": [
    {
     "name": "stderr",
     "output_type": "stream",
     "text": [
      "100%|██████████| 60175/60175 [01:38<00:00, 608.77it/s] \n"
     ]
    }
   ],
   "source": [
    "skill_acc = df[['skill_id', 'correct']].groupby('skill_id')['correct'].agg('mean')\n",
    "user_skill = df[['user_id', 'skill_id', 'correct']].groupby(['user_id', 'skill_id'])['correct'].agg('mean')\n",
    "\n",
    "for user, skill in tqdm(user_skill.index):\n",
    "    if user_skill[user][skill]>=skill_acc[skill]:\n",
    "        user_skill[user][skill] = 1\n",
    "    else:\n",
    "        user_skill[user][skill] = 0"
   ]
  },
  {
   "cell_type": "code",
   "execution_count": 13,
   "id": "89dbd1df",
   "metadata": {},
   "outputs": [
    {
     "name": "stdout",
     "output_type": "stream",
     "text": [
      "Extracting c2c matrix...\n"
     ]
    },
    {
     "data": {
      "text/plain": [
       "['./a17/nodel/c2c.pkl.zip']"
      ]
     },
     "execution_count": 13,
     "metadata": {},
     "output_type": "execute_result"
    }
   ],
   "source": [
    "pool = multiprocessing.Pool(processes=20)\n",
    "        \n",
    "# c2c matrix\n",
    "row = []\n",
    "col = []\n",
    "val = []\n",
    "print('Extracting c2c matrix...')\n",
    "arg_skills = ((skill1, skill2) for (i, skill1) in enumerate(skill_df.index) for skill2 in skill_df.index[i:])\n",
    "c2c = partial(co_acc_skills, user_skill)\n",
    "val = pool.starmap(c2c, arg_skills)\n",
    "for i in range(len(skill_df.index)):\n",
    "    for j in range(i, len(skill_df.index)):\n",
    "        row.append(i)\n",
    "        col.append(j)\n",
    "mat_skill = coo_matrix((val, (row, col)), shape=(len(skill_df.index), len(skill_df.index)))\n",
    "joblib.dump(mat_skill,'./a17/nodel/c2c.pkl.zip')"
   ]
  },
  {
   "cell_type": "code",
   "execution_count": 26,
   "id": "ce7e39e7",
   "metadata": {},
   "outputs": [
    {
     "name": "stdout",
     "output_type": "stream",
     "text": [
      "After deleting some users, records number 219716\n"
     ]
    }
   ],
   "source": [
    "df = df[~df['user_id'].isin(delete_users)]\n",
    "df = df[['user_id', 'problem_id', 'skill_id', 'timestep', 'correct']]\n",
    "print('After deleting some users, records number %d' % len(df))"
   ]
  },
  {
   "cell_type": "code",
   "execution_count": 27,
   "id": "b7f32ec4",
   "metadata": {},
   "outputs": [
    {
     "data": {
      "text/plain": [
       "['./data/a17/skill_prob.pkl.zip']"
      ]
     },
     "execution_count": 27,
     "metadata": {},
     "output_type": "execute_result"
    }
   ],
   "source": [
    "skill_df = df[['skill_id', 'problem_id']].groupby(['skill_id'], as_index=True).apply(\n",
    "        lambda r: np.array(list(set(r['problem_id'].values))))\n",
    "joblib.dump(skill_df, './data/a17/skill_prob.pkl.zip')"
   ]
  },
  {
   "cell_type": "code",
   "execution_count": 28,
   "id": "2cdf2f50",
   "metadata": {},
   "outputs": [
    {
     "data": {
      "text/html": [
       "<div>\n",
       "<style scoped>\n",
       "    .dataframe tbody tr th:only-of-type {\n",
       "        vertical-align: middle;\n",
       "    }\n",
       "\n",
       "    .dataframe tbody tr th {\n",
       "        vertical-align: top;\n",
       "    }\n",
       "\n",
       "    .dataframe thead th {\n",
       "        text-align: right;\n",
       "    }\n",
       "</style>\n",
       "<table border=\"1\" class=\"dataframe\">\n",
       "  <thead>\n",
       "    <tr style=\"text-align: right;\">\n",
       "      <th></th>\n",
       "      <th>user_id</th>\n",
       "      <th>problem_id</th>\n",
       "      <th>skill_id</th>\n",
       "      <th>timestep</th>\n",
       "      <th>correct</th>\n",
       "    </tr>\n",
       "  </thead>\n",
       "  <tbody>\n",
       "    <tr>\n",
       "      <th>0</th>\n",
       "      <td>8</td>\n",
       "      <td>1118</td>\n",
       "      <td>71</td>\n",
       "      <td>2004-09-29 15:05:01</td>\n",
       "      <td>0</td>\n",
       "    </tr>\n",
       "    <tr>\n",
       "      <th>7</th>\n",
       "      <td>8</td>\n",
       "      <td>1088</td>\n",
       "      <td>68</td>\n",
       "      <td>2004-09-29 15:07:34</td>\n",
       "      <td>0</td>\n",
       "    </tr>\n",
       "    <tr>\n",
       "      <th>16</th>\n",
       "      <td>8</td>\n",
       "      <td>1074</td>\n",
       "      <td>77</td>\n",
       "      <td>2004-09-29 15:11:07</td>\n",
       "      <td>1</td>\n",
       "    </tr>\n",
       "    <tr>\n",
       "      <th>17</th>\n",
       "      <td>8</td>\n",
       "      <td>1204</td>\n",
       "      <td>14</td>\n",
       "      <td>2004-09-29 15:12:30</td>\n",
       "      <td>0</td>\n",
       "    </tr>\n",
       "    <tr>\n",
       "      <th>22</th>\n",
       "      <td>8</td>\n",
       "      <td>1182</td>\n",
       "      <td>14</td>\n",
       "      <td>2004-09-29 15:14:14</td>\n",
       "      <td>0</td>\n",
       "    </tr>\n",
       "    <tr>\n",
       "      <th>...</th>\n",
       "      <td>...</td>\n",
       "      <td>...</td>\n",
       "      <td>...</td>\n",
       "      <td>...</td>\n",
       "      <td>...</td>\n",
       "    </tr>\n",
       "    <tr>\n",
       "      <th>942782</th>\n",
       "      <td>7783</td>\n",
       "      <td>441</td>\n",
       "      <td>95</td>\n",
       "      <td>2006-05-12 15:14:38</td>\n",
       "      <td>1</td>\n",
       "    </tr>\n",
       "    <tr>\n",
       "      <th>942783</th>\n",
       "      <td>7783</td>\n",
       "      <td>4003</td>\n",
       "      <td>30</td>\n",
       "      <td>2006-05-12 15:15:53</td>\n",
       "      <td>0</td>\n",
       "    </tr>\n",
       "    <tr>\n",
       "      <th>942787</th>\n",
       "      <td>7783</td>\n",
       "      <td>1644</td>\n",
       "      <td>73</td>\n",
       "      <td>2006-05-12 15:17:06</td>\n",
       "      <td>0</td>\n",
       "    </tr>\n",
       "    <tr>\n",
       "      <th>942793</th>\n",
       "      <td>7783</td>\n",
       "      <td>2274</td>\n",
       "      <td>50</td>\n",
       "      <td>2006-05-12 15:18:48</td>\n",
       "      <td>0</td>\n",
       "    </tr>\n",
       "    <tr>\n",
       "      <th>942815</th>\n",
       "      <td>7783</td>\n",
       "      <td>836</td>\n",
       "      <td>56</td>\n",
       "      <td>2006-05-12 15:25:46</td>\n",
       "      <td>1</td>\n",
       "    </tr>\n",
       "  </tbody>\n",
       "</table>\n",
       "<p>219716 rows × 5 columns</p>\n",
       "</div>"
      ],
      "text/plain": [
       "        user_id  problem_id  skill_id            timestep  correct\n",
       "0             8        1118        71 2004-09-29 15:05:01        0\n",
       "7             8        1088        68 2004-09-29 15:07:34        0\n",
       "16            8        1074        77 2004-09-29 15:11:07        1\n",
       "17            8        1204        14 2004-09-29 15:12:30        0\n",
       "22            8        1182        14 2004-09-29 15:14:14        0\n",
       "...         ...         ...       ...                 ...      ...\n",
       "942782     7783         441        95 2006-05-12 15:14:38        1\n",
       "942783     7783        4003        30 2006-05-12 15:15:53        0\n",
       "942787     7783        1644        73 2006-05-12 15:17:06        0\n",
       "942793     7783        2274        50 2006-05-12 15:18:48        0\n",
       "942815     7783         836        56 2006-05-12 15:25:46        1\n",
       "\n",
       "[219716 rows x 5 columns]"
      ]
     },
     "execution_count": 28,
     "metadata": {},
     "output_type": "execute_result"
    }
   ],
   "source": [
    "df[['user_id', 'problem_id', 'skill_id', 'timestep','correct']]"
   ]
  },
  {
   "cell_type": "code",
   "execution_count": 39,
   "id": "890f04d1",
   "metadata": {},
   "outputs": [],
   "source": [
    "def co_acc_probs(user_prob, prob1, prob2):\n",
    "    '''共同出现的问题'''\n",
    "    count = 0\n",
    "    agg = 0\n",
    "    for user, prob in user_prob.index:\n",
    "        if prob == prob1:\n",
    "            if prob2 in user_prob[user].index:\n",
    "                count += 1\n",
    "                agg += user_prob[user][prob1] * user_prob[user][prob2]\n",
    "#                 print('user {} answered two questions, with {} answered {}, and {} answered {}'\n",
    "#                   .format(user, prob1, user_prob[user][prob1], prob2, user_prob[user][prob2]))\n",
    "    if count == 0:\n",
    "        return -1\n",
    "    else:\n",
    "        return agg/count\n",
    "\n",
    "def co_acc_skills(user_skill, skill1, skill2):\n",
    "    '''共同出现的知识点'''\n",
    "    count = 0\n",
    "    agg = 0\n",
    "    for user, skill in user_skill.index:\n",
    "        if skill1 == skill:\n",
    "            if skill2 in user_skill[user].index:\n",
    "                count += 1\n",
    "                agg += user_skill[user][skill1] * user_skill[user][skill2]\n",
    "    if count == 0:\n",
    "        return -1\n",
    "    else:\n",
    "        return agg/count"
   ]
  },
  {
   "cell_type": "code",
   "execution_count": null,
   "id": "bb0f125a",
   "metadata": {},
   "outputs": [],
   "source": [
    "user_prob = df[['user_id', 'problem_id', 'correct']].groupby(['user_id', 'problem_id'])['correct'].agg('mean')\n",
    "\n",
    "# e2e matrix\n",
    "skill_mats = []\n",
    "e2e = partial(co_acc_probs, user_prob)\n",
    "for skill in tqdm(skill_df.index):\n",
    "    print('processing skill: ', skill)\n",
    "    skill_probs = skill_df[skill]\n",
    "    row = []\n",
    "    col = []\n",
    "    args = ((prob1, prob2) for i, prob1 in enumerate(skill_probs) for prob2 in skill_probs[i:])\n",
    "    val = pool.starmap(e2e, args)\n",
    "    print('matrix size is: ', len(val))\n",
    "    for i in range(len(skill_probs)):\n",
    "        for j in range(i, len(skill_probs)):\n",
    "            row.append(i)\n",
    "            col.append(j)\n",
    "    assert (len(val) == len(row))\n",
    "    mat = coo_matrix((val, (row, col)), shape=(len(skill_probs), len(skill_probs)))\n",
    "    skill_mats.append(mat)\n",
    "joblib.dump(skill_mats, './data/a17/para_e2e.pkl.zip')"
   ]
  },
  {
   "cell_type": "code",
   "execution_count": 41,
   "id": "d01cd894",
   "metadata": {},
   "outputs": [
    {
     "name": "stderr",
     "output_type": "stream",
     "text": [
      "100%|██████████████████████████████████████████████████████████████████████| 59144/59144 [00:28<00:00, 2039.86it/s]\n"
     ]
    }
   ],
   "source": [
    "skill_acc = df[['skill_id', 'correct']].groupby('skill_id')['correct'].agg('mean')\n",
    "user_skill = df[['user_id', 'skill_id', 'correct']].groupby(['user_id', 'skill_id'])['correct'].agg('mean')\n",
    "\n",
    "for user, skill in tqdm(user_skill.index):\n",
    "    if user_skill[user][skill] >= skill_acc[skill]:\n",
    "        user_skill[user][skill] = 1\n",
    "    else:\n",
    "        user_skill[user][skill] = 0\n"
   ]
  },
  {
   "cell_type": "code",
   "execution_count": 42,
   "id": "9b0805ab",
   "metadata": {},
   "outputs": [
    {
     "name": "stdout",
     "output_type": "stream",
     "text": [
      "Extracting c2c matrix...\n"
     ]
    },
    {
     "data": {
      "text/plain": [
       "['./data/a17/c2c.pkl.zip']"
      ]
     },
     "execution_count": 42,
     "metadata": {},
     "output_type": "execute_result"
    }
   ],
   "source": [
    "# c2c matrix\n",
    "row = []\n",
    "col = []\n",
    "val = []\n",
    "print('Extracting c2c matrix...')\n",
    "arg_skills = ((skill1, skill2) for (i, skill1) in enumerate(skill_df.index) for skill2 in skill_df.index[i:])\n",
    "c2c = partial(co_acc_skills, user_skill)\n",
    "val = pool.starmap(c2c, arg_skills)\n",
    "for i in range(len(skill_df.index)):\n",
    "    for j in range(i, len(skill_df.index)):\n",
    "        row.append(i)\n",
    "        col.append(j)\n",
    "mat_skill = coo_matrix((val, (row, col)), shape=(len(skill_df.index), len(skill_df.index)))\n",
    "joblib.dump(mat_skill, './data/a17/c2c.pkl.zip')\n"
   ]
  },
  {
   "cell_type": "code",
   "execution_count": 20,
   "id": "656a1f12",
   "metadata": {},
   "outputs": [
    {
     "data": {
      "text/plain": [
       "[array([ 896, 2239, 1059, 2244,  935, 2289,  850, 2201, 2267,  893,  575])]"
      ]
     },
     "execution_count": 20,
     "metadata": {},
     "output_type": "execute_result"
    }
   ],
   "source": [
    "skill_df[skill_df.index == 72].tolist()"
   ]
  },
  {
   "cell_type": "code",
   "execution_count": 6,
   "id": "12bc3cb4",
   "metadata": {},
   "outputs": [],
   "source": [
    "import joblib\n",
    "skill_prob = joblib.load('./a17/skill_prob.pkl.zip')\n",
    "skill_prob\n",
    "\n",
    "filtered_skill_prob = {}\n",
    "channel = 10\n",
    "for i, skill_id in enumerate(skill_prob.index):\n",
    "    if len(skill_prob[skill_id]) >= channel:\n",
    "        filtered_skill_prob[skill_id] = skill_prob[skill_id]"
   ]
  },
  {
   "cell_type": "code",
   "execution_count": null,
   "id": "74d50771",
   "metadata": {},
   "outputs": [],
   "source": [
    "import numpy as np\n",
    "\n",
    "data_path = './a17/emb'\n",
    "e2e_emb = joblib.load(f'{data_path}/e2e_emb.pkl.zip')\n",
    "c2c_emb = joblib.load(f'{data_path}/c2c_emb.pkl.zip')\n",
    "\n",
    "from sklearn.preprocessing import StandardScaler\n",
    "scaler = StandardScaler()\n",
    "all_c_v = []\n",
    "for k, v in c2c_emb.items():\n",
    "    all_c_v.extend(list(v.numpy()))\n",
    "all_c_v = scaler.fit_transform(np.array(all_c_v).reshape(-1, 1))\n",
    "\n",
    "all_c_v1 = {}\n",
    "for i, (k, v) in enumerate(c2c_emb.items()):\n",
    "    all_c_v1[k] = all_c_v[i*10:(i+1)*10].reshape(-1,)\n",
    "    \n",
    "c2c_emb"
   ]
  },
  {
   "cell_type": "code",
   "execution_count": null,
   "id": "a937ff16",
   "metadata": {},
   "outputs": [],
   "source": [
    "all_e_v = {}\n",
    "for skill, qu_embs in e2e_emb.items():\n",
    "    q_num = qu_embs.shape[0]\n",
    "    temp_all_v = qu_embs.numpy().reshape(-1,)\n",
    "    temp_all_v = scaler.fit_transform(np.array(temp_all_v).reshape(-1, 1))\n",
    "    all_e_v[skill] = temp_all_v.reshape(-1, 10)\n",
    "all_e_v"
   ]
  },
  {
   "cell_type": "code",
   "execution_count": 15,
   "id": "e359a1dd",
   "metadata": {},
   "outputs": [
    {
     "name": "stdout",
     "output_type": "stream",
     "text": [
      "1\n",
      "3\n"
     ]
    },
    {
     "ename": "KeyError",
     "evalue": "3",
     "output_type": "error",
     "traceback": [
      "\u001b[0;31m---------------------------------------------------------------------------\u001b[0m",
      "\u001b[0;31mKeyError\u001b[0m                                  Traceback (most recent call last)",
      "\u001b[0;32m/tmp/ipykernel_213641/3256206509.py\u001b[0m in \u001b[0;36m<module>\u001b[0;34m\u001b[0m\n\u001b[1;32m      2\u001b[0m \u001b[0;32mfor\u001b[0m \u001b[0mskill\u001b[0m \u001b[0;32min\u001b[0m \u001b[0mfiltered_skill_prob\u001b[0m\u001b[0;34m.\u001b[0m\u001b[0mkeys\u001b[0m\u001b[0;34m(\u001b[0m\u001b[0;34m)\u001b[0m\u001b[0;34m:\u001b[0m\u001b[0;34m\u001b[0m\u001b[0;34m\u001b[0m\u001b[0m\n\u001b[1;32m      3\u001b[0m     \u001b[0mprint\u001b[0m\u001b[0;34m(\u001b[0m\u001b[0mskill\u001b[0m\u001b[0;34m)\u001b[0m\u001b[0;34m\u001b[0m\u001b[0;34m\u001b[0m\u001b[0m\n\u001b[0;32m----> 4\u001b[0;31m     \u001b[0mtemp_c\u001b[0m \u001b[0;34m=\u001b[0m \u001b[0;34m(\u001b[0m\u001b[0mnp\u001b[0m\u001b[0;34m.\u001b[0m\u001b[0marray\u001b[0m\u001b[0;34m(\u001b[0m\u001b[0mall_c_v1\u001b[0m\u001b[0;34m[\u001b[0m\u001b[0mskill\u001b[0m\u001b[0;34m]\u001b[0m\u001b[0;34m)\u001b[0m\u001b[0;34m)\u001b[0m\u001b[0;34m\u001b[0m\u001b[0;34m\u001b[0m\u001b[0m\n\u001b[0m\u001b[1;32m      5\u001b[0m     \u001b[0mtemp_e\u001b[0m \u001b[0;34m=\u001b[0m \u001b[0mnp\u001b[0m\u001b[0;34m.\u001b[0m\u001b[0marray\u001b[0m\u001b[0;34m(\u001b[0m\u001b[0mnp\u001b[0m\u001b[0;34m.\u001b[0m\u001b[0mmean\u001b[0m\u001b[0;34m(\u001b[0m\u001b[0mall_e_v\u001b[0m\u001b[0;34m[\u001b[0m\u001b[0mskill\u001b[0m\u001b[0;34m]\u001b[0m\u001b[0;34m,\u001b[0m \u001b[0maxis\u001b[0m\u001b[0;34m=\u001b[0m\u001b[0;36m0\u001b[0m\u001b[0;34m)\u001b[0m\u001b[0;34m)\u001b[0m\u001b[0;34m\u001b[0m\u001b[0;34m\u001b[0m\u001b[0m\n\u001b[1;32m      6\u001b[0m     \u001b[0mskill_emb\u001b[0m\u001b[0;34m[\u001b[0m\u001b[0mskill\u001b[0m\u001b[0;34m]\u001b[0m \u001b[0;34m=\u001b[0m \u001b[0mnp\u001b[0m\u001b[0;34m.\u001b[0m\u001b[0mappend\u001b[0m\u001b[0;34m(\u001b[0m\u001b[0mtemp_c\u001b[0m\u001b[0;34m,\u001b[0m \u001b[0mtemp_e\u001b[0m\u001b[0;34m)\u001b[0m\u001b[0;34m\u001b[0m\u001b[0;34m\u001b[0m\u001b[0m\n",
      "\u001b[0;31mKeyError\u001b[0m: 3"
     ]
    }
   ],
   "source": [
    "skill_emb = {}\n",
    "for skill in filtered_skill_prob.keys():\n",
    "    print(skill)\n",
    "    temp_c = (np.array(all_c_v1[skill]))\n",
    "    temp_e = np.array(np.mean(all_e_v[skill], axis=0))\n",
    "    skill_emb[skill] = np.append(temp_c, temp_e)"
   ]
  },
  {
   "cell_type": "code",
   "execution_count": null,
   "id": "e1dea473",
   "metadata": {},
   "outputs": [],
   "source": []
  }
 ],
 "metadata": {
  "kernelspec": {
   "display_name": "Python 3 (ipykernel)",
   "language": "python",
   "name": "python3"
  },
  "language_info": {
   "codemirror_mode": {
    "name": "ipython",
    "version": 3
   },
   "file_extension": ".py",
   "mimetype": "text/x-python",
   "name": "python",
   "nbconvert_exporter": "python",
   "pygments_lexer": "ipython3",
   "version": "3.8.0"
  }
 },
 "nbformat": 4,
 "nbformat_minor": 5
}
